{
 "cells": [
  {
   "cell_type": "markdown",
   "metadata": {},
   "source": [
    "# Optimal number of topics with correlation\n"
   ]
  },
  {
   "cell_type": "code",
   "execution_count": 3,
   "metadata": {
    "vscode": {
     "languageId": "r"
    }
   },
   "outputs": [
    {
     "name": "stderr",
     "output_type": "stream",
     "text": [
      "\n",
      "Attaching package: ‘dplyr’\n",
      "\n",
      "The following objects are masked from ‘package:stats’:\n",
      "\n",
      "    filter, lag\n",
      "\n",
      "The following objects are masked from ‘package:base’:\n",
      "\n",
      "    intersect, setdiff, setequal, union\n",
      "\n",
      "Loading required package: viridisLite\n"
     ]
    }
   ],
   "source": [
    "library(ggplot2)\n",
    "library(\"dplyr\")\n",
    "library(viridis)"
   ]
  },
  {
   "cell_type": "code",
   "execution_count": 13,
   "metadata": {
    "vscode": {
     "languageId": "r"
    }
   },
   "outputs": [],
   "source": [
    "error = c()\n",
    "max_cor_exp = c()\n",
    "max_cor_sig = c()\n",
    "\n",
    "nosig = c(5,10,20,40,80)\n",
    "x = 1\n",
    "cor_exp_list = list()\n",
    "cor_sig_list = list()\n",
    "for( i in nosig){\n",
    "    load(paste0(\"modelssaved/three_sample_f\",i,\"_s5K_l500_norm_i1000.RData\"))\n",
    "    error[x] = out$gkl\n",
    "\n",
    "    cor_exp_list[[x]] = cor(out$exposures)\n",
    "    diag(cor_exp_list[[x]]) = 0\n",
    "\n",
    "    cor_sig_list[[x]] = cor(t(out$signatures))\n",
    "    diag(cor_sig_list[[x]]) = 0\n",
    "    x = x+1\n",
    "}\n"
   ]
  },
  {
   "cell_type": "code",
   "execution_count": 39,
   "metadata": {
    "vscode": {
     "languageId": "r"
    }
   },
   "outputs": [],
   "source": [
    "\n",
    "for(i in 1:length(nosig)){\n",
    "    # max_cor_exp[i] = mean(apply(cor_exp_list[[i]],1,max)) \n",
    "    # max_cor_sig[i] = mean(apply(cor_sig_list[[i]],1,max))\n",
    "\n",
    "    # max_cor_exp[i] = max(cor_exp_list[[i]]) \n",
    "    # max_cor_sig[i] = max(cor_sig_list[[i]])\n",
    "\n",
    "    # max_cor_exp[i] = median(cor_exp_list[[i]]) \n",
    "    # max_cor_sig[i] = median(cor_sig_list[[i]])\n",
    "\n",
    "    max_cor_exp[i] = mean(cor_exp_list[[i]]) \n",
    "    max_cor_sig[i] = mean(cor_sig_list[[i]])\n",
    "}\n",
    "\n",
    "dat1 = data.frame(x = nosig, error = error, cexp = max_cor_exp, csig = max_cor_sig)"
   ]
  },
  {
   "cell_type": "code",
   "execution_count": 26,
   "metadata": {
    "vscode": {
     "languageId": "r"
    }
   },
   "outputs": [
    {
     "data": {},
     "metadata": {},
     "output_type": "display_data"
    },
    {
     "data": {
      "image/png": "[encoded data removed]",
      "text/plain": [
       "plot without title"
      ]
     },
     "metadata": {},
     "output_type": "display_data"
    }
   ],
   "source": [
    "options(repr.plot.width=5, repr.plot.height=5)\n",
    "ggplot(dat1, aes(x = x, y = error))+\n",
    "geom_point()+ xlab('Number of topics') + ylab('error') +\n",
    "ggtitle(\"Error\")\n"
   ]
  },
  {
   "cell_type": "code",
   "execution_count": 40,
   "metadata": {
    "vscode": {
     "languageId": "r"
    }
   },
   "outputs": [
    {
     "data": {},
     "metadata": {},
     "output_type": "display_data"
    },
    {
     "data": {
      "image/png": "[encoded data removed]",
      "text/plain": [
       "plot without title"
      ]
     },
     "metadata": {},
     "output_type": "display_data"
    }
   ],
   "source": [
    "options(repr.plot.width=5, repr.plot.height=5)\n",
    "ggplot(dat1, aes(x = x))+\n",
    "geom_point(aes(y = max_cor_exp), col = \"blue\")+ \n",
    "geom_point(aes(y = max_cor_sig), col = \"red\")+\n",
    "xlab('Number of topics') + ylab('correlation') +\n",
    "ggtitle(\"correlation - mean\")"
   ]
  },
  {
   "cell_type": "markdown",
   "metadata": {},
   "source": [
    "# Correlation between topics "
   ]
  },
  {
   "cell_type": "code",
   "execution_count": 1,
   "metadata": {
    "vscode": {
     "languageId": "r"
    }
   },
   "outputs": [],
   "source": [
    "load(\"modelssaved/cellpose_f20_b150_l500_1e10.RData\")"
   ]
  },
  {
   "cell_type": "code",
   "execution_count": 3,
   "metadata": {
    "vscode": {
     "languageId": "r"
    }
   },
   "outputs": [],
   "source": [
    "cor_topics = cor(out$exposures)"
   ]
  },
  {
   "cell_type": "code",
   "execution_count": 18,
   "metadata": {
    "vscode": {
     "languageId": "r"
    }
   },
   "outputs": [],
   "source": [
    "load(\"modelssaved/three_sample_f20_nmfgen_iter1000.RData\")\n",
    "regout = out\n",
    "load(\"modelssaved/three_sample_f20_s5K_l300_norm_i1000.RData\")\n",
    "sout = out"
   ]
  },
  {
   "cell_type": "code",
   "execution_count": 19,
   "metadata": {
    "vscode": {
     "languageId": "r"
    }
   },
   "outputs": [],
   "source": [
    "cor_topics = cor(t(regout$signatures),t(sout$signatures))\n",
    "cor_weights = cor(regout$exposures,sout$exposures)"
   ]
  },
  {
   "cell_type": "code",
   "execution_count": 20,
   "metadata": {
    "vscode": {
     "languageId": "r"
    }
   },
   "outputs": [
    {
     "data": {
      "text/html": [
       "<table>\n",
       "<tbody>\n",
       "\t<tr><td> 1          </td><td> 0.029102469</td><td> 0.091407254</td></tr>\n",
       "\t<tr><td> 2          </td><td>-0.003712002</td><td> 0.003036011</td></tr>\n",
       "\t<tr><td> 3          </td><td>-0.291335600</td><td>-0.013301022</td></tr>\n",
       "\t<tr><td> 4          </td><td> 0.009685991</td><td> 0.039924098</td></tr>\n",
       "\t<tr><td> 5          </td><td> 0.069346103</td><td> 0.153526965</td></tr>\n",
       "\t<tr><td> 6          </td><td> 0.051722430</td><td>-0.010792422</td></tr>\n",
       "\t<tr><td> 7          </td><td> 0.025078574</td><td>-0.006896456</td></tr>\n",
       "\t<tr><td> 8          </td><td> 0.094303050</td><td> 0.503712066</td></tr>\n",
       "\t<tr><td> 9          </td><td> 0.034087853</td><td>-0.010610664</td></tr>\n",
       "\t<tr><td>10          </td><td> 0.034885594</td><td>-0.023894361</td></tr>\n",
       "\t<tr><td>11          </td><td>-0.217183913</td><td>-0.017242793</td></tr>\n",
       "\t<tr><td>12          </td><td> 0.310575849</td><td> 0.073752916</td></tr>\n",
       "\t<tr><td>13          </td><td>-0.029687704</td><td>-0.007363498</td></tr>\n",
       "\t<tr><td>14          </td><td> 0.049966142</td><td> 0.114806220</td></tr>\n",
       "\t<tr><td>15          </td><td>-0.098229817</td><td> 0.011802523</td></tr>\n",
       "\t<tr><td>16          </td><td> 0.536545257</td><td> 0.950324831</td></tr>\n",
       "\t<tr><td>17          </td><td>-0.037383523</td><td> 0.040165338</td></tr>\n",
       "\t<tr><td>18          </td><td> 0.121988887</td><td> 0.188642054</td></tr>\n",
       "\t<tr><td>19          </td><td>-0.023625488</td><td> 0.109548383</td></tr>\n",
       "\t<tr><td>20          </td><td> 0.109427750</td><td>-0.003499887</td></tr>\n",
       "</tbody>\n",
       "</table>\n"
      ],
      "text/latex": [
       "\\begin{tabular}{lll}\n",
       "\t  1           &  0.029102469 &  0.091407254\\\\\n",
       "\t  2           & -0.003712002 &  0.003036011\\\\\n",
       "\t  3           & -0.291335600 & -0.013301022\\\\\n",
       "\t  4           &  0.009685991 &  0.039924098\\\\\n",
       "\t  5           &  0.069346103 &  0.153526965\\\\\n",
       "\t  6           &  0.051722430 & -0.010792422\\\\\n",
       "\t  7           &  0.025078574 & -0.006896456\\\\\n",
       "\t  8           &  0.094303050 &  0.503712066\\\\\n",
       "\t  9           &  0.034087853 & -0.010610664\\\\\n",
       "\t 10           &  0.034885594 & -0.023894361\\\\\n",
       "\t 11           & -0.217183913 & -0.017242793\\\\\n",
       "\t 12           &  0.310575849 &  0.073752916\\\\\n",
       "\t 13           & -0.029687704 & -0.007363498\\\\\n",
       "\t 14           &  0.049966142 &  0.114806220\\\\\n",
       "\t 15           & -0.098229817 &  0.011802523\\\\\n",
       "\t 16           &  0.536545257 &  0.950324831\\\\\n",
       "\t 17           & -0.037383523 &  0.040165338\\\\\n",
       "\t 18           &  0.121988887 &  0.188642054\\\\\n",
       "\t 19           & -0.023625488 &  0.109548383\\\\\n",
       "\t 20           &  0.109427750 & -0.003499887\\\\\n",
       "\\end{tabular}\n"
      ],
      "text/markdown": [
       "\n",
       "|  1           |  0.029102469 |  0.091407254 | \n",
       "|  2           | -0.003712002 |  0.003036011 | \n",
       "|  3           | -0.291335600 | -0.013301022 | \n",
       "|  4           |  0.009685991 |  0.039924098 | \n",
       "|  5           |  0.069346103 |  0.153526965 | \n",
       "|  6           |  0.051722430 | -0.010792422 | \n",
       "|  7           |  0.025078574 | -0.006896456 | \n",
       "|  8           |  0.094303050 |  0.503712066 | \n",
       "|  9           |  0.034087853 | -0.010610664 | \n",
       "| 10           |  0.034885594 | -0.023894361 | \n",
       "| 11           | -0.217183913 | -0.017242793 | \n",
       "| 12           |  0.310575849 |  0.073752916 | \n",
       "| 13           | -0.029687704 | -0.007363498 | \n",
       "| 14           |  0.049966142 |  0.114806220 | \n",
       "| 15           | -0.098229817 |  0.011802523 | \n",
       "| 16           |  0.536545257 |  0.950324831 | \n",
       "| 17           | -0.037383523 |  0.040165338 | \n",
       "| 18           |  0.121988887 |  0.188642054 | \n",
       "| 19           | -0.023625488 |  0.109548383 | \n",
       "| 20           |  0.109427750 | -0.003499887 | \n",
       "\n",
       "\n"
      ],
      "text/plain": [
       "      [,1] [,2]         [,3]        \n",
       " [1,]  1    0.029102469  0.091407254\n",
       " [2,]  2   -0.003712002  0.003036011\n",
       " [3,]  3   -0.291335600 -0.013301022\n",
       " [4,]  4    0.009685991  0.039924098\n",
       " [5,]  5    0.069346103  0.153526965\n",
       " [6,]  6    0.051722430 -0.010792422\n",
       " [7,]  7    0.025078574 -0.006896456\n",
       " [8,]  8    0.094303050  0.503712066\n",
       " [9,]  9    0.034087853 -0.010610664\n",
       "[10,] 10    0.034885594 -0.023894361\n",
       "[11,] 11   -0.217183913 -0.017242793\n",
       "[12,] 12    0.310575849  0.073752916\n",
       "[13,] 13   -0.029687704 -0.007363498\n",
       "[14,] 14    0.049966142  0.114806220\n",
       "[15,] 15   -0.098229817  0.011802523\n",
       "[16,] 16    0.536545257  0.950324831\n",
       "[17,] 17   -0.037383523  0.040165338\n",
       "[18,] 18    0.121988887  0.188642054\n",
       "[19,] 19   -0.023625488  0.109548383\n",
       "[20,] 20    0.109427750 -0.003499887"
      ]
     },
     "metadata": {},
     "output_type": "display_data"
    }
   ],
   "source": [
    "cbind(c(1:20),cor_weights[,6],cor_topics[,6])"
   ]
  },
  {
   "cell_type": "code",
   "execution_count": 5,
   "metadata": {
    "vscode": {
     "languageId": "r"
    }
   },
   "outputs": [],
   "source": [
    "# write.csv(data.frame(cor_topics), \"resultplots/corr_topics_l500.csv\", row.names=FALSE)"
   ]
  },
  {
   "cell_type": "markdown",
   "metadata": {},
   "source": [
    "# Testing how correlation is affected by lengthscale"
   ]
  },
  {
   "cell_type": "code",
   "execution_count": 8,
   "metadata": {
    "vscode": {
     "languageId": "r"
    }
   },
   "outputs": [],
   "source": [
    "#load(\"modelssaved/LH1000_l005_f10.RData\")\n",
    "#dats = out\n",
    "load(\"modelssaved/LH1000_l005_noreg.RData\")\n",
    "dat0 = out\n",
    "load(\"modelssaved/LH500_l002.RData\")\n",
    "dats2 = out\n",
    "load(\"modelssaved/LH500_l0002.RData\")\n",
    "dats3 = out\n",
    "load(\"modelssaved/LH_distmat.RData\")"
   ]
  },
  {
   "cell_type": "code",
   "execution_count": 2,
   "metadata": {
    "vscode": {
     "languageId": "r"
    }
   },
   "outputs": [],
   "source": [
    "source(\"model/NMFbatch.R\")"
   ]
  },
  {
   "cell_type": "markdown",
   "metadata": {},
   "source": [
    "### The distance from lengthscale \n",
    "\n",
    "\\begin{align*}\n",
    "\\exp(-0.002*dist) &= 0.5 \\\\\n",
    "dist &= -\\frac{1}{0.002} \\log(0.5) \\\\\n",
    "dist &\\approx 150\n",
    "\\end{align*}"
   ]
  },
  {
   "cell_type": "code",
   "execution_count": 9,
   "metadata": {
    "vscode": {
     "languageId": "r"
    }
   },
   "outputs": [
    {
     "data": {
      "image/png": "[encoded data removed]",
      "text/plain": [
       "Plot with title “Histogram of rowSums(sigma > 0.5)”"
      ]
     },
     "metadata": {},
     "output_type": "display_data"
    }
   ],
   "source": [
    "sigma = exp(-0.002*dist)\n",
    "hist(rowSums(sigma>0.5))"
   ]
  },
  {
   "cell_type": "code",
   "execution_count": 5,
   "metadata": {
    "vscode": {
     "languageId": "r"
    }
   },
   "outputs": [
    {
     "data": {
      "text/html": [
       "0.0263161562775592"
      ],
      "text/latex": [
       "0.0263161562775592"
      ],
      "text/markdown": [
       "0.0263161562775592"
      ],
      "text/plain": [
       "[1] 0.02631616"
      ]
     },
     "metadata": {},
     "output_type": "display_data"
    },
    {
     "data": {
      "text/html": [
       "0.304602735316882"
      ],
      "text/latex": [
       "0.304602735316882"
      ],
      "text/markdown": [
       "0.304602735316882"
      ],
      "text/plain": [
       "[1] 0.3046027"
      ]
     },
     "metadata": {},
     "output_type": "display_data"
    },
    {
     "data": {
      "text/html": [
       "0.572963450288393"
      ],
      "text/latex": [
       "0.572963450288393"
      ],
      "text/markdown": [
       "0.572963450288393"
      ],
      "text/plain": [
       "[1] 0.5729635"
      ]
     },
     "metadata": {},
     "output_type": "display_data"
    }
   ],
   "source": [
    "# the different correlations\n",
    "c0 = cor(t(dat0$exposures))\n",
    "mean(c0[sigma > 0.5| sigma < 1])\n",
    "cs2 = cor(t(dats2$exposures))\n",
    "mean(cs2[sigma > 0.5| sigma < 1])\n",
    "cs3 = cor(t(dats3$exposures))\n",
    "mean(cs3[sigma > 0.5 | sigma < 1])\n"
   ]
  },
  {
   "cell_type": "code",
   "execution_count": 8,
   "metadata": {
    "vscode": {
     "languageId": "r"
    }
   },
   "outputs": [
    {
     "data": {
      "image/png": "[encoded data removed]",
      "text/plain": [
       "Plot with title “Histogram of rowSums(weight > 0)”"
      ]
     },
     "metadata": {},
     "output_type": "display_data"
    }
   ],
   "source": [
    "weight = exp(-0.005*dist)\n",
    "weight[weight < 0.5] = 0\n",
    "weight = weight/rowSums(weight)\n",
    "\n",
    "hist(rowSums(weight>0))"
   ]
  },
  {
   "cell_type": "markdown",
   "metadata": {},
   "source": [
    "It is known that if you have data $X$ with covariance $\\Sigma$, then $WX$ will have covariance $W\\Sigma W^T$."
   ]
  },
  {
   "cell_type": "code",
   "execution_count": 9,
   "metadata": {
    "vscode": {
     "languageId": "r"
    }
   },
   "outputs": [],
   "source": [
    "cormean = c()\n",
    "posmean = c()\n",
    "wmat = diag(nrow(weight))\n",
    "for(i in 1:200){\n",
    "    wmat =  weight%*%wmat%*%t(weight)\n",
    "    D = sqrt(diag(wmat))\n",
    "    cormat =  t(wmat/D) /D\n",
    "    cormean[i] = mean(cormat[sigma > 0.5 | sigma < 1])\n",
    "    posmean[i] = mean(cormat[sigma > 0.5 | sigma < 1] > 0)\n",
    "}\n",
    "\n"
   ]
  },
  {
   "cell_type": "code",
   "execution_count": 10,
   "metadata": {
    "vscode": {
     "languageId": "r"
    }
   },
   "outputs": [
    {
     "data": {
      "image/png": "[encoded data removed]",
      "text/plain": [
       "plot without title"
      ]
     },
     "metadata": {},
     "output_type": "display_data"
    }
   ],
   "source": [
    "par(mfrow = c(1,2))\n",
    "options(repr.plot.width=10, repr.plot.height=5)\n",
    "plot(cormean)\n",
    "plot(posmean)\n"
   ]
  },
  {
   "cell_type": "markdown",
   "metadata": {},
   "source": [
    "### The correlation for NMF weights "
   ]
  },
  {
   "cell_type": "code",
   "execution_count": 10,
   "metadata": {
    "vscode": {
     "languageId": "r"
    }
   },
   "outputs": [],
   "source": [
    "library(Rcpp)\n",
    "library(RcppArmadillo)\n",
    "sourceCpp(\"model/NMFspatial2.cpp\")\n",
    "\n",
    "# load the data count\n",
    "count = read.csv('data/LH_counts.csv', header = T)\n",
    "count = as.matrix(count)\n",
    "count = count[,-1]\n",
    "\n",
    "genes = colnames(count)\n",
    "\n",
    "data = count\n",
    "data = data/rowSums(data)\n",
    "\n",
    "\n"
   ]
  },
  {
   "cell_type": "code",
   "execution_count": 21,
   "metadata": {
    "vscode": {
     "languageId": "r"
    }
   },
   "outputs": [
    {
     "data": {
      "text/html": [
       "<ol class=list-inline>\n",
       "\t<li>6620</li>\n",
       "\t<li>6620</li>\n",
       "</ol>\n"
      ],
      "text/latex": [
       "\\begin{enumerate*}\n",
       "\\item 6620\n",
       "\\item 6620\n",
       "\\end{enumerate*}\n"
      ],
      "text/markdown": [
       "1. 6620\n",
       "2. 6620\n",
       "\n",
       "\n"
      ],
      "text/plain": [
       "[1] 6620 6620"
      ]
     },
     "metadata": {},
     "output_type": "display_data"
    }
   ],
   "source": [
    "dim(dist)"
   ]
  },
  {
   "cell_type": "code",
   "execution_count": 26,
   "metadata": {
    "vscode": {
     "languageId": "r"
    }
   },
   "outputs": [
    {
     "data": {
      "image/png": "[encoded data removed]",
      "text/plain": [
       "Plot with title “Histogram of rowSums(weight > 0.05)”"
      ]
     },
     "metadata": {},
     "output_type": "display_data"
    }
   ],
   "source": [
    "sigma = exp(-0.005*dist)\n",
    "sigma[sigma < 0.2] = 0\n",
    "\n",
    "\n",
    "hist(rowSums(weight>0.05))\n",
    "\n",
    "weight = weight/rowSums(weight)"
   ]
  },
  {
   "cell_type": "code",
   "execution_count": 35,
   "metadata": {
    "vscode": {
     "languageId": "r"
    }
   },
   "outputs": [],
   "source": [
    "out0 = nmfspatial(data, 10,weight = weight, initial = 1, smallIter = 100, maxiter = 100)\n",
    "corNMF = c()\n",
    "errorNMF = c()\n",
    "c0 = cor(t(out0$exposures))\n",
    "corNMF[1] = mean(c0[sigma > 0.5| sigma < 1])\n",
    "errorNMF[1] = out0$gkl\n",
    "\n",
    "for(i in 2:100){\n",
    "    out = nmftrain(data, out0$exposures, out0$signatures, weight = weight, iter = i)\n",
    "    c0 = cor(t(out$exposures))\n",
    "    corNMF[i] = mean(c0[sigma > 0.5| sigma < 1])\n",
    "    errorNMF[i] = out$gkl\n",
    "    out0 = out\n",
    "}"
   ]
  },
  {
   "cell_type": "code",
   "execution_count": 28,
   "metadata": {
    "vscode": {
     "languageId": "r"
    }
   },
   "outputs": [
    {
     "data": {
      "image/png": "[encoded data removed]",
      "text/plain": [
       "plot without title"
      ]
     },
     "metadata": {},
     "output_type": "display_data"
    }
   ],
   "source": [
    "par(mfrow = c(1,2))\n",
    "options(repr.plot.width=10, repr.plot.height=5)\n",
    "plot(cumsum(1:30),corNMF)\n",
    "plot(cumsum(1:30),errorNMF)"
   ]
  },
  {
   "cell_type": "code",
   "execution_count": 31,
   "metadata": {
    "vscode": {
     "languageId": "r"
    }
   },
   "outputs": [],
   "source": [
    "location = read.csv('data/LH_location.csv', header = T, row.names = 1)"
   ]
  },
  {
   "cell_type": "code",
   "execution_count": 32,
   "metadata": {
    "vscode": {
     "languageId": "r"
    }
   },
   "outputs": [
    {
     "data": {
      "text/html": [
       "<table>\n",
       "<thead><tr><th></th><th scope=col>X0</th><th scope=col>X1</th></tr></thead>\n",
       "<tbody>\n",
       "\t<tr><th scope=row>0</th><td>43443.45 </td><td>-17527.58</td></tr>\n",
       "\t<tr><th scope=row>1</th><td>42733.65 </td><td>-17539.46</td></tr>\n",
       "\t<tr><th scope=row>2</th><td>43969.78 </td><td>-17519.23</td></tr>\n",
       "\t<tr><th scope=row>3</th><td>42925.67 </td><td>-17528.40</td></tr>\n",
       "\t<tr><th scope=row>4</th><td>43738.71 </td><td>-17534.82</td></tr>\n",
       "\t<tr><th scope=row>5</th><td>42150.53 </td><td>-17525.61</td></tr>\n",
       "</tbody>\n",
       "</table>\n"
      ],
      "text/latex": [
       "\\begin{tabular}{r|ll}\n",
       "  & X0 & X1\\\\\n",
       "\\hline\n",
       "\t0 & 43443.45  & -17527.58\\\\\n",
       "\t1 & 42733.65  & -17539.46\\\\\n",
       "\t2 & 43969.78  & -17519.23\\\\\n",
       "\t3 & 42925.67  & -17528.40\\\\\n",
       "\t4 & 43738.71  & -17534.82\\\\\n",
       "\t5 & 42150.53  & -17525.61\\\\\n",
       "\\end{tabular}\n"
      ],
      "text/markdown": [
       "\n",
       "| <!--/--> | X0 | X1 | \n",
       "|---|---|---|---|---|---|\n",
       "| 0 | 43443.45  | -17527.58 | \n",
       "| 1 | 42733.65  | -17539.46 | \n",
       "| 2 | 43969.78  | -17519.23 | \n",
       "| 3 | 42925.67  | -17528.40 | \n",
       "| 4 | 43738.71  | -17534.82 | \n",
       "| 5 | 42150.53  | -17525.61 | \n",
       "\n",
       "\n"
      ],
      "text/plain": [
       "  X0       X1       \n",
       "0 43443.45 -17527.58\n",
       "1 42733.65 -17539.46\n",
       "2 43969.78 -17519.23\n",
       "3 42925.67 -17528.40\n",
       "4 43738.71 -17534.82\n",
       "5 42150.53 -17525.61"
      ]
     },
     "metadata": {},
     "output_type": "display_data"
    }
   ],
   "source": [
    "data.frame()"
   ]
  },
  {
   "cell_type": "markdown",
   "metadata": {},
   "source": [
    "## More neighbors included"
   ]
  },
  {
   "cell_type": "code",
   "execution_count": 42,
   "metadata": {
    "vscode": {
     "languageId": "r"
    }
   },
   "outputs": [
    {
     "data": {
      "image/png": "[encoded data removed]",
      "text/plain": [
       "Plot with title “Histogram of rowSums(weight > 0)”"
      ]
     },
     "metadata": {},
     "output_type": "display_data"
    }
   ],
   "source": [
    "weight = exp(-0.005*dist)\n",
    "weight[weight < 0.2] = 0\n",
    "weight = weight/rowSums(weight)\n",
    "\n",
    "hist(rowSums(weight>0))"
   ]
  },
  {
   "cell_type": "code",
   "execution_count": 43,
   "metadata": {
    "vscode": {
     "languageId": "r"
    }
   },
   "outputs": [],
   "source": [
    "out0 = nmfspatial(data, 10,weight = weight, initial = 1, smallIter = 100, maxiter = 100)\n",
    "corNMF = c()\n",
    "errorNMF = c()\n",
    "c0 = cor(t(out0$exposures))\n",
    "corNMF[1] = mean(c0[sigma > 0.5| sigma < 1])\n",
    "errorNMF[1] = out0$gkl\n",
    "\n",
    "for(i in 2:30){\n",
    "    out = nmftrain(data, out0$exposures, out0$signatures, weight = weight, iter = i)\n",
    "    c0 = cor(t(out$exposures))\n",
    "    corNMF[i] = mean(c0[sigma > 0.5| sigma < 1])\n",
    "    errorNMF[i] = out$gkl\n",
    "    out0 = out\n",
    "}"
   ]
  },
  {
   "cell_type": "code",
   "execution_count": null,
   "metadata": {
    "vscode": {
     "languageId": "r"
    }
   },
   "outputs": [],
   "source": [
    "par(mfrow = c(1,2))\n",
    "options(repr.plot.width=10, repr.plot.height=5)\n",
    "plot(cumsum(1:30),corNMF)\n",
    "plot(cumsum(1:30),errorNMF)"
   ]
  }
 ],
 "metadata": {
  "kernelspec": {
   "display_name": "R",
   "language": "R",
   "name": "ir"
  },
  "language_info": {
   "codemirror_mode": "r",
   "file_extension": ".r",
   "mimetype": "text/x-r-source",
   "name": "R",
   "pygments_lexer": "r",
   "version": "3.4.3"
  }
 },
 "nbformat": 4,
 "nbformat_minor": 2
}
