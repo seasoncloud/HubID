{
 "cells": [
  {
   "cell_type": "code",
   "execution_count": 1,
   "metadata": {
    "vscode": {
     "languageId": "r"
    }
   },
   "outputs": [],
   "source": [
    "#load(\"modelssaved/LH1000_l005_f10.RData\")\n",
    "#dats = out\n",
    "load(\"modelssaved/LH1000_l005_noreg.RData\")\n",
    "dat0 = out\n",
    "load(\"modelssaved/LH500_l002.RData\")\n",
    "dats2 = out\n",
    "load(\"modelssaved/LH500_l0002.RData\")\n",
    "dats3 = out\n",
    "load(\"modelssaved/LH_distmat.RData\")"
   ]
  },
  {
   "cell_type": "code",
   "execution_count": 4,
   "metadata": {
    "vscode": {
     "languageId": "r"
    }
   },
   "outputs": [],
   "source": [
    "source(\"model/NMFbatch.R\")"
   ]
  },
  {
   "cell_type": "code",
   "execution_count": 2,
   "metadata": {
    "vscode": {
     "languageId": "r"
    }
   },
   "outputs": [
    {
     "data": {
      "text/html": [
       "<table>\n",
       "<tbody>\n",
       "\t<tr><td> 0.06811606</td><td> 1.43671123</td></tr>\n",
       "\t<tr><td>-0.62785608</td><td>-0.07454008</td></tr>\n",
       "\t<tr><td>-1.64004043</td><td>-1.80120812</td></tr>\n",
       "\t<tr><td> 1.32600085</td><td> 0.23206252</td></tr>\n",
       "\t<tr><td>-2.18381106</td><td>-0.41169187</td></tr>\n",
       "\t<tr><td>-0.25027804</td><td>-0.36227931</td></tr>\n",
       "\t<tr><td>-0.60238143</td><td> 0.22972294</td></tr>\n",
       "\t<tr><td>-0.14033001</td><td> 0.85520193</td></tr>\n",
       "</tbody>\n",
       "</table>\n"
      ],
      "text/latex": [
       "\\begin{tabular}{ll}\n",
       "\t  0.06811606 &  1.43671123\\\\\n",
       "\t -0.62785608 & -0.07454008\\\\\n",
       "\t -1.64004043 & -1.80120812\\\\\n",
       "\t  1.32600085 &  0.23206252\\\\\n",
       "\t -2.18381106 & -0.41169187\\\\\n",
       "\t -0.25027804 & -0.36227931\\\\\n",
       "\t -0.60238143 &  0.22972294\\\\\n",
       "\t -0.14033001 &  0.85520193\\\\\n",
       "\\end{tabular}\n"
      ],
      "text/markdown": [
       "\n",
       "|  0.06811606 |  1.43671123 | \n",
       "| -0.62785608 | -0.07454008 | \n",
       "| -1.64004043 | -1.80120812 | \n",
       "|  1.32600085 |  0.23206252 | \n",
       "| -2.18381106 | -0.41169187 | \n",
       "| -0.25027804 | -0.36227931 | \n",
       "| -0.60238143 |  0.22972294 | \n",
       "| -0.14033001 |  0.85520193 | \n",
       "\n",
       "\n"
      ],
      "text/plain": [
       "     [,1]        [,2]       \n",
       "[1,]  0.06811606  1.43671123\n",
       "[2,] -0.62785608 -0.07454008\n",
       "[3,] -1.64004043 -1.80120812\n",
       "[4,]  1.32600085  0.23206252\n",
       "[5,] -2.18381106 -0.41169187\n",
       "[6,] -0.25027804 -0.36227931\n",
       "[7,] -0.60238143  0.22972294\n",
       "[8,] -0.14033001  0.85520193"
      ]
     },
     "metadata": {},
     "output_type": "display_data"
    }
   ],
   "source": [
    "xmat = matrix(rnorm(16), nrow = 8)\n",
    "xmat"
   ]
  },
  {
   "cell_type": "code",
   "execution_count": 13,
   "metadata": {
    "vscode": {
     "languageId": "r"
    }
   },
   "outputs": [],
   "source": []
  },
  {
   "cell_type": "code",
   "execution_count": 24,
   "metadata": {
    "vscode": {
     "languageId": "r"
    }
   },
   "outputs": [
    {
     "data": {
      "text/html": [
       "<ol class=list-inline>\n",
       "\t<li>1</li>\n",
       "\t<li>2</li>\n",
       "\t<li>0</li>\n",
       "\t<li>1</li>\n",
       "\t<li>0</li>\n",
       "\t<li>2</li>\n",
       "\t<li>2</li>\n",
       "\t<li>1</li>\n",
       "</ol>\n"
      ],
      "text/latex": [
       "\\begin{enumerate*}\n",
       "\\item 1\n",
       "\\item 2\n",
       "\\item 0\n",
       "\\item 1\n",
       "\\item 0\n",
       "\\item 2\n",
       "\\item 2\n",
       "\\item 1\n",
       "\\end{enumerate*}\n"
      ],
      "text/markdown": [
       "1. 1\n",
       "2. 2\n",
       "3. 0\n",
       "4. 1\n",
       "5. 0\n",
       "6. 2\n",
       "7. 2\n",
       "8. 1\n",
       "\n",
       "\n"
      ],
      "text/plain": [
       "[1] 1 2 0 1 0 2 2 1"
      ]
     },
     "metadata": {},
     "output_type": "display_data"
    }
   ],
   "source": [
    "groupondist(xmat,3)\n",
    "\n",
    "\n"
   ]
  },
  {
   "cell_type": "code",
   "execution_count": 15,
   "metadata": {
    "vscode": {
     "languageId": "r"
    }
   },
   "outputs": [
    {
     "data": {
      "text/html": [
       "<ol class=list-inline>\n",
       "\t<li>2</li>\n",
       "\t<li>1</li>\n",
       "\t<li>0</li>\n",
       "\t<li>2</li>\n",
       "\t<li>1</li>\n",
       "\t<li>1</li>\n",
       "\t<li>2</li>\n",
       "\t<li>0</li>\n",
       "</ol>\n"
      ],
      "text/latex": [
       "\\begin{enumerate*}\n",
       "\\item 2\n",
       "\\item 1\n",
       "\\item 0\n",
       "\\item 2\n",
       "\\item 1\n",
       "\\item 1\n",
       "\\item 2\n",
       "\\item 0\n",
       "\\end{enumerate*}\n"
      ],
      "text/markdown": [
       "1. 2\n",
       "2. 1\n",
       "3. 0\n",
       "4. 2\n",
       "5. 1\n",
       "6. 1\n",
       "7. 2\n",
       "8. 0\n",
       "\n",
       "\n"
      ],
      "text/plain": [
       "[1] 2 1 0 2 1 1 2 0"
      ]
     },
     "metadata": {},
     "output_type": "display_data"
    }
   ],
   "source": [
    "batch_vec"
   ]
  },
  {
   "cell_type": "code",
   "execution_count": 16,
   "metadata": {
    "vscode": {
     "languageId": "r"
    }
   },
   "outputs": [
    {
     "data": {
      "text/html": [
       "1"
      ],
      "text/latex": [
       "1"
      ],
      "text/markdown": [
       "1"
      ],
      "text/plain": [
       "[1] 1"
      ]
     },
     "metadata": {},
     "output_type": "display_data"
    }
   ],
   "source": [
    "size"
   ]
  },
  {
   "cell_type": "code",
   "execution_count": 8,
   "metadata": {
    "vscode": {
     "languageId": "r"
    }
   },
   "outputs": [
    {
     "data": {
      "text/html": [
       "0.826895912718509"
      ],
      "text/latex": [
       "0.826895912718509"
      ],
      "text/markdown": [
       "0.826895912718509"
      ],
      "text/plain": [
       "[1] 0.8268959"
      ]
     },
     "metadata": {},
     "output_type": "display_data"
    }
   ],
   "source": [
    "sqrt(sum((xmat[1,] - xmat[2,])^2))"
   ]
  },
  {
   "cell_type": "markdown",
   "metadata": {},
   "source": [
    "### The distance from lengthscale \n",
    "\n",
    "\\begin{align*}\n",
    "\\exp(-0.002*dist) &= 0.5 \\\\\n",
    "dist &= -\\frac{1}{0.002} \\log(0.5) \\\\\n",
    "dist &\\approx 150\n",
    "\\end{align*}"
   ]
  },
  {
   "cell_type": "code",
   "execution_count": 2,
   "metadata": {
    "vscode": {
     "languageId": "r"
    }
   },
   "outputs": [
    {
     "data": {
      "image/png": "[encoded data removed]",
      "text/plain": [
       "Plot with title “Histogram of rowSums(sigma > 0.5)”"
      ]
     },
     "metadata": {},
     "output_type": "display_data"
    }
   ],
   "source": [
    "sigma = exp(-0.002*dist)\n",
    "hist(rowSums(sigma>0.5))"
   ]
  },
  {
   "cell_type": "code",
   "execution_count": 3,
   "metadata": {
    "vscode": {
     "languageId": "r"
    }
   },
   "outputs": [
    {
     "data": {
      "text/html": [
       "0.0263161562775592"
      ],
      "text/latex": [
       "0.0263161562775592"
      ],
      "text/markdown": [
       "0.0263161562775592"
      ],
      "text/plain": [
       "[1] 0.02631616"
      ]
     },
     "metadata": {},
     "output_type": "display_data"
    },
    {
     "data": {
      "text/html": [
       "0.304602735316882"
      ],
      "text/latex": [
       "0.304602735316882"
      ],
      "text/markdown": [
       "0.304602735316882"
      ],
      "text/plain": [
       "[1] 0.3046027"
      ]
     },
     "metadata": {},
     "output_type": "display_data"
    },
    {
     "data": {
      "text/html": [
       "0.572963450288393"
      ],
      "text/latex": [
       "0.572963450288393"
      ],
      "text/markdown": [
       "0.572963450288393"
      ],
      "text/plain": [
       "[1] 0.5729635"
      ]
     },
     "metadata": {},
     "output_type": "display_data"
    }
   ],
   "source": [
    "# the different correlations\n",
    "c0 = cor(t(dat0$exposures))\n",
    "mean(c0[sigma > 0.5| sigma < 1])\n",
    "cs2 = cor(t(dats2$exposures))\n",
    "mean(cs2[sigma > 0.5| sigma < 1])\n",
    "cs3 = cor(t(dats3$exposures))\n",
    "mean(cs3[sigma > 0.5 | sigma < 1])\n"
   ]
  },
  {
   "cell_type": "code",
   "execution_count": 8,
   "metadata": {
    "vscode": {
     "languageId": "r"
    }
   },
   "outputs": [
    {
     "data": {
      "image/png": "[encoded data removed]",
      "text/plain": [
       "Plot with title “Histogram of rowSums(weight > 0)”"
      ]
     },
     "metadata": {},
     "output_type": "display_data"
    }
   ],
   "source": [
    "weight = exp(-0.005*dist)\n",
    "weight[weight < 0.5] = 0\n",
    "weight = weight/rowSums(weight)\n",
    "\n",
    "hist(rowSums(weight>0))"
   ]
  },
  {
   "cell_type": "markdown",
   "metadata": {},
   "source": [
    "It is known that if you have data $X$ with covariance $\\Sigma$, then $WX$ will have covariance $W\\Sigma W^T$."
   ]
  },
  {
   "cell_type": "code",
   "execution_count": 9,
   "metadata": {
    "vscode": {
     "languageId": "r"
    }
   },
   "outputs": [],
   "source": [
    "cormean = c()\n",
    "posmean = c()\n",
    "wmat = diag(nrow(weight))\n",
    "for(i in 1:200){\n",
    "    wmat =  weight%*%wmat%*%t(weight)\n",
    "    D = sqrt(diag(wmat))\n",
    "    cormat =  t(wmat/D) /D\n",
    "    cormean[i] = mean(cormat[sigma > 0.5 | sigma < 1])\n",
    "    posmean[i] = mean(cormat[sigma > 0.5 | sigma < 1] > 0)\n",
    "}\n",
    "\n"
   ]
  },
  {
   "cell_type": "code",
   "execution_count": 10,
   "metadata": {
    "vscode": {
     "languageId": "r"
    }
   },
   "outputs": [
    {
     "data": {
      "image/png": "[encoded data removed]",
      "text/plain": [
       "plot without title"
      ]
     },
     "metadata": {},
     "output_type": "display_data"
    }
   ],
   "source": [
    "par(mfrow = c(1,2))\n",
    "options(repr.plot.width=10, repr.plot.height=5)\n",
    "plot(cormean)\n",
    "plot(posmean)\n"
   ]
  },
  {
   "cell_type": "markdown",
   "metadata": {},
   "source": [
    "### The correlation for NMF weights "
   ]
  },
  {
   "cell_type": "code",
   "execution_count": 31,
   "metadata": {
    "vscode": {
     "languageId": "r"
    }
   },
   "outputs": [],
   "source": [
    "library(Rcpp)\n",
    "library(RcppArmadillo)\n",
    "sourceCpp(\"model/NMFspatial.cpp\")\n",
    "\n",
    "# load the data count\n",
    "count = read.csv('data/LH_counts.csv', header = T)\n",
    "count = as.matrix(count)\n",
    "count = count[,-1]\n",
    "\n",
    "genes = colnames(count)\n",
    "\n",
    "data = count\n",
    "data = data/rowSums(data)\n",
    "\n",
    "\n"
   ]
  },
  {
   "cell_type": "code",
   "execution_count": null,
   "metadata": {
    "vscode": {
     "languageId": "r"
    }
   },
   "outputs": [],
   "source": [
    "weight = exp(-0.01*dist)\n",
    "weight[weight < 0.2] = 0\n",
    "weight = weight/rowSums(weight)\n",
    "\n",
    "hist(rowSums(weight>0.05))"
   ]
  },
  {
   "cell_type": "code",
   "execution_count": 37,
   "metadata": {
    "vscode": {
     "languageId": "r"
    }
   },
   "outputs": [],
   "source": [
    "out0 = nmfspatial(data, 10,weight = weight, initial = 1, smallIter = 100, maxiter = 100)\n",
    "corNMF = c()\n",
    "errorNMF = c()\n",
    "c0 = cor(t(out0$exposures))\n",
    "corNMF[1] = mean(c0[sigma > 0.5| sigma < 1])\n",
    "errorNMF[1] = out0$gkl\n",
    "\n",
    "for(i in 2:30){\n",
    "    out = nmftrain(data, out0$exposures, out0$signatures, weight = weight, iter = i)\n",
    "    c0 = cor(t(out$exposures))\n",
    "    corNMF[i] = mean(c0[sigma > 0.5| sigma < 1])\n",
    "    errorNMF[i] = out$gkl\n",
    "    out0 = out\n",
    "}"
   ]
  },
  {
   "cell_type": "code",
   "execution_count": 39,
   "metadata": {
    "vscode": {
     "languageId": "r"
    }
   },
   "outputs": [
    {
     "data": {
      "image/png": "[encoded data removed]",
      "text/plain": [
       "plot without title"
      ]
     },
     "metadata": {},
     "output_type": "display_data"
    }
   ],
   "source": [
    "par(mfrow = c(1,2))\n",
    "options(repr.plot.width=10, repr.plot.height=5)\n",
    "plot(cumsum(1:30),corNMF)\n",
    "plot(cumsum(1:30),errorNMF)"
   ]
  },
  {
   "cell_type": "markdown",
   "metadata": {},
   "source": [
    "## More neighbors included"
   ]
  },
  {
   "cell_type": "code",
   "execution_count": 42,
   "metadata": {
    "vscode": {
     "languageId": "r"
    }
   },
   "outputs": [
    {
     "data": {
      "image/png": "[encoded data removed]",
      "text/plain": [
       "Plot with title “Histogram of rowSums(weight > 0)”"
      ]
     },
     "metadata": {},
     "output_type": "display_data"
    }
   ],
   "source": [
    "weight = exp(-0.005*dist)\n",
    "weight[weight < 0.2] = 0\n",
    "weight = weight/rowSums(weight)\n",
    "\n",
    "hist(rowSums(weight>0))"
   ]
  },
  {
   "cell_type": "code",
   "execution_count": 43,
   "metadata": {
    "vscode": {
     "languageId": "r"
    }
   },
   "outputs": [],
   "source": [
    "out0 = nmfspatial(data, 10,weight = weight, initial = 1, smallIter = 100, maxiter = 100)\n",
    "corNMF = c()\n",
    "errorNMF = c()\n",
    "c0 = cor(t(out0$exposures))\n",
    "corNMF[1] = mean(c0[sigma > 0.5| sigma < 1])\n",
    "errorNMF[1] = out0$gkl\n",
    "\n",
    "for(i in 2:30){\n",
    "    out = nmftrain(data, out0$exposures, out0$signatures, weight = weight, iter = i)\n",
    "    c0 = cor(t(out$exposures))\n",
    "    corNMF[i] = mean(c0[sigma > 0.5| sigma < 1])\n",
    "    errorNMF[i] = out$gkl\n",
    "    out0 = out\n",
    "}"
   ]
  },
  {
   "cell_type": "code",
   "execution_count": null,
   "metadata": {
    "vscode": {
     "languageId": "r"
    }
   },
   "outputs": [],
   "source": [
    "par(mfrow = c(1,2))\n",
    "options(repr.plot.width=10, repr.plot.height=5)\n",
    "plot(cumsum(1:30),corNMF)\n",
    "plot(cumsum(1:30),errorNMF)"
   ]
  }
 ],
 "metadata": {
  "kernelspec": {
   "display_name": "R",
   "language": "R",
   "name": "ir"
  },
  "language_info": {
   "codemirror_mode": "r",
   "file_extension": ".r",
   "mimetype": "text/x-r-source",
   "name": "R",
   "pygments_lexer": "r",
   "version": "3.4.3"
  }
 },
 "nbformat": 4,
 "nbformat_minor": 2
}
