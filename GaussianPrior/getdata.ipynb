{
 "cells": [
  {
   "cell_type": "code",
   "execution_count": 1,
   "metadata": {
    "vscode": {
     "languageId": "r"
    }
   },
   "outputs": [],
   "source": [
    "path = \"/gladstone/engelhardt/pelka-collaboration/HuColonCa-FFPE-ImmuOnco-LH_VMSC02001_20220427/HuColonCa-FFPE-ImmuOnco-LH_VMSC02001_20220427\"\n",
    "setwd(path)"
   ]
  },
  {
   "cell_type": "code",
   "execution_count": 2,
   "metadata": {
    "vscode": {
     "languageId": "r"
    }
   },
   "outputs": [],
   "source": [
    "counts_good = read.csv('cellpose_cell_by_gene_goodgenes_noblanks.csv', row.names = 1)"
   ]
  },
  {
   "cell_type": "code",
   "execution_count": 8,
   "metadata": {
    "vscode": {
     "languageId": "r"
    }
   },
   "outputs": [
    {
     "data": {
      "text/html": [
       "<ol class=list-inline>\n",
       "\t<li>844468</li>\n",
       "\t<li>492</li>\n",
       "</ol>\n"
      ],
      "text/latex": [
       "\\begin{enumerate*}\n",
       "\\item 844468\n",
       "\\item 492\n",
       "\\end{enumerate*}\n"
      ],
      "text/markdown": [
       "1. 844468\n",
       "2. 492\n",
       "\n",
       "\n"
      ],
      "text/plain": [
       "[1] 844468    492"
      ]
     },
     "metadata": {},
     "output_type": "display_data"
    }
   ],
   "source": [
    "dim(counts_good)\n",
    "counts_good = as.matrix(counts_good)"
   ]
  },
  {
   "cell_type": "code",
   "execution_count": 14,
   "metadata": {
    "vscode": {
     "languageId": "r"
    }
   },
   "outputs": [],
   "source": [
    "idx = which(rowSums(counts_good) == 0)\n",
    "\n",
    "write.csv(idx,\"/home/rlaursen/projects/HubID/GaussianPrior/data/cell_no_gene_count.csv\")"
   ]
  },
  {
   "cell_type": "code",
   "execution_count": 2,
   "metadata": {
    "vscode": {
     "languageId": "r"
    }
   },
   "outputs": [],
   "source": [
    "metadata = read.csv('cellpose_cell_metadata.csv', row.names = 1)"
   ]
  },
  {
   "cell_type": "code",
   "execution_count": 5,
   "metadata": {
    "vscode": {
     "languageId": "r"
    }
   },
   "outputs": [
    {
     "data": {
      "text/html": [
       "<table>\n",
       "<thead><tr><th></th><th scope=col>fov</th><th scope=col>volume</th><th scope=col>center_x</th><th scope=col>center_y</th><th scope=col>min_x</th><th scope=col>min_y</th><th scope=col>max_x</th><th scope=col>max_y</th><th scope=col>barcodeCount</th></tr></thead>\n",
       "<tbody>\n",
       "\t<tr><th scope=row>0</th><td>NA       </td><td> 26498.59</td><td>3751.498 </td><td>1869.639 </td><td>3705.867 </td><td>1852.064 </td><td>3795.907 </td><td>1890.068 </td><td>NA       </td></tr>\n",
       "\t<tr><th scope=row>1</th><td>NA       </td><td> 56901.00</td><td>4070.460 </td><td>1897.063 </td><td>4027.365 </td><td>1852.803 </td><td>4117.418 </td><td>1943.802 </td><td>NA       </td></tr>\n",
       "\t<tr><th scope=row>2</th><td>NA       </td><td>159694.22</td><td>3868.162 </td><td>1924.793 </td><td>3789.673 </td><td>1860.716 </td><td>3953.939 </td><td>2004.790 </td><td>NA       </td></tr>\n",
       "\t<tr><th scope=row>3</th><td>NA       </td><td> 44115.62</td><td>3993.054 </td><td>1901.740 </td><td>3956.975 </td><td>1861.465 </td><td>4030.900 </td><td>1944.211 </td><td>NA       </td></tr>\n",
       "\t<tr><th scope=row>4</th><td>NA       </td><td> 68099.45</td><td>3745.070 </td><td>1933.949 </td><td>3703.002 </td><td>1884.000 </td><td>3792.867 </td><td>1986.310 </td><td>NA       </td></tr>\n",
       "\t<tr><th scope=row>5</th><td>NA       </td><td> 23206.04</td><td>4126.969 </td><td>1928.588 </td><td>4092.420 </td><td>1894.062 </td><td>4158.844 </td><td>1960.451 </td><td>NA       </td></tr>\n",
       "</tbody>\n",
       "</table>\n"
      ],
      "text/latex": [
       "\\begin{tabular}{r|lllllllll}\n",
       "  & fov & volume & center\\_x & center\\_y & min\\_x & min\\_y & max\\_x & max\\_y & barcodeCount\\\\\n",
       "\\hline\n",
       "\t0 & NA        &  26498.59 & 3751.498  & 1869.639  & 3705.867  & 1852.064  & 3795.907  & 1890.068  & NA       \\\\\n",
       "\t1 & NA        &  56901.00 & 4070.460  & 1897.063  & 4027.365  & 1852.803  & 4117.418  & 1943.802  & NA       \\\\\n",
       "\t2 & NA        & 159694.22 & 3868.162  & 1924.793  & 3789.673  & 1860.716  & 3953.939  & 2004.790  & NA       \\\\\n",
       "\t3 & NA        &  44115.62 & 3993.054  & 1901.740  & 3956.975  & 1861.465  & 4030.900  & 1944.211  & NA       \\\\\n",
       "\t4 & NA        &  68099.45 & 3745.070  & 1933.949  & 3703.002  & 1884.000  & 3792.867  & 1986.310  & NA       \\\\\n",
       "\t5 & NA        &  23206.04 & 4126.969  & 1928.588  & 4092.420  & 1894.062  & 4158.844  & 1960.451  & NA       \\\\\n",
       "\\end{tabular}\n"
      ],
      "text/markdown": [
       "\n",
       "| <!--/--> | fov | volume | center_x | center_y | min_x | min_y | max_x | max_y | barcodeCount | \n",
       "|---|---|---|---|---|---|\n",
       "| 0 | NA        |  26498.59 | 3751.498  | 1869.639  | 3705.867  | 1852.064  | 3795.907  | 1890.068  | NA        | \n",
       "| 1 | NA        |  56901.00 | 4070.460  | 1897.063  | 4027.365  | 1852.803  | 4117.418  | 1943.802  | NA        | \n",
       "| 2 | NA        | 159694.22 | 3868.162  | 1924.793  | 3789.673  | 1860.716  | 3953.939  | 2004.790  | NA        | \n",
       "| 3 | NA        |  44115.62 | 3993.054  | 1901.740  | 3956.975  | 1861.465  | 4030.900  | 1944.211  | NA        | \n",
       "| 4 | NA        |  68099.45 | 3745.070  | 1933.949  | 3703.002  | 1884.000  | 3792.867  | 1986.310  | NA        | \n",
       "| 5 | NA        |  23206.04 | 4126.969  | 1928.588  | 4092.420  | 1894.062  | 4158.844  | 1960.451  | NA        | \n",
       "\n",
       "\n"
      ],
      "text/plain": [
       "  fov volume    center_x center_y min_x    min_y    max_x    max_y   \n",
       "0 NA   26498.59 3751.498 1869.639 3705.867 1852.064 3795.907 1890.068\n",
       "1 NA   56901.00 4070.460 1897.063 4027.365 1852.803 4117.418 1943.802\n",
       "2 NA  159694.22 3868.162 1924.793 3789.673 1860.716 3953.939 2004.790\n",
       "3 NA   44115.62 3993.054 1901.740 3956.975 1861.465 4030.900 1944.211\n",
       "4 NA   68099.45 3745.070 1933.949 3703.002 1884.000 3792.867 1986.310\n",
       "5 NA   23206.04 4126.969 1928.588 4092.420 1894.062 4158.844 1960.451\n",
       "  barcodeCount\n",
       "0 NA          \n",
       "1 NA          \n",
       "2 NA          \n",
       "3 NA          \n",
       "4 NA          \n",
       "5 NA          "
      ]
     },
     "metadata": {},
     "output_type": "display_data"
    }
   ],
   "source": [
    "head(metadata)"
   ]
  },
  {
   "cell_type": "code",
   "execution_count": 16,
   "metadata": {
    "vscode": {
     "languageId": "r"
    }
   },
   "outputs": [],
   "source": [
    "location = metadata[,c('center_x','center_y')]"
   ]
  },
  {
   "cell_type": "code",
   "execution_count": 15,
   "metadata": {
    "vscode": {
     "languageId": "r"
    }
   },
   "outputs": [
    {
     "data": {},
     "metadata": {},
     "output_type": "display_data"
    },
    {
     "data": {
      "image/png": "[encoded data removed]",
      "text/plain": [
       "plot without title"
      ]
     },
     "metadata": {},
     "output_type": "display_data"
    }
   ],
   "source": [
    "library(ggplot2)\n",
    "df = data.frame(x = metadata[,'center_x'], y = metadata[,'center_y'])\n",
    "ggplot(df, aes(x = x, y = y))+ \n",
    "    geom_point()"
   ]
  },
  {
   "cell_type": "code",
   "execution_count": 19,
   "metadata": {
    "vscode": {
     "languageId": "r"
    }
   },
   "outputs": [],
   "source": [
    "rm(list = ls())"
   ]
  },
  {
   "cell_type": "code",
   "execution_count": 8,
   "metadata": {
    "vscode": {
     "languageId": "r"
    }
   },
   "outputs": [],
   "source": [
    "con = file(\"detected_transcripts_micron_goodgenes.csv\", \"r\")\n",
    "trans_micron = read.csv(con, nrows = 20)\n"
   ]
  },
  {
   "cell_type": "code",
   "execution_count": 9,
   "metadata": {
    "vscode": {
     "languageId": "r"
    }
   },
   "outputs": [
    {
     "data": {
      "text/html": [
       "<table>\n",
       "<thead><tr><th scope=col>X</th><th scope=col>barcode_id</th><th scope=col>global_x</th><th scope=col>global_y</th><th scope=col>global_z</th><th scope=col>x</th><th scope=col>y</th><th scope=col>fov</th><th scope=col>gene</th><th scope=col>transcript_id</th></tr></thead>\n",
       "<tbody>\n",
       "\t<tr><td> 102           </td><td>0              </td><td>1143.682       </td><td> 65.79964      </td><td>0              </td><td>1329.6451      </td><td> 609.2559      </td><td>0              </td><td>PDK4           </td><td>ENST00000005178</td></tr>\n",
       "\t<tr><td> 163           </td><td>0              </td><td>1111.368       </td><td> 90.13365      </td><td>0              </td><td>1030.4442      </td><td> 834.5709      </td><td>0              </td><td>PDK4           </td><td>ENST00000005178</td></tr>\n",
       "\t<tr><td> 292           </td><td>0              </td><td>1089.453       </td><td>137.15580      </td><td>0              </td><td> 827.5248      </td><td>1269.9612      </td><td>0              </td><td>PDK4           </td><td>ENST00000005178</td></tr>\n",
       "\t<tr><td> 357           </td><td>0              </td><td>1088.640       </td><td>149.50612      </td><td>0              </td><td> 820.0000      </td><td>1384.3159      </td><td>0              </td><td>PDK4           </td><td>ENST00000005178</td></tr>\n",
       "\t<tr><td> 422           </td><td>0              </td><td>1101.750       </td><td>167.85127      </td><td>0              </td><td> 941.3859      </td><td>1554.1783      </td><td>0              </td><td>PDK4           </td><td>ENST00000005178</td></tr>\n",
       "\t<tr><td> 433           </td><td>0              </td><td>1107.679       </td><td>170.02798      </td><td>0              </td><td> 996.2849      </td><td>1574.3331      </td><td>0              </td><td>PDK4           </td><td>ENST00000005178</td></tr>\n",
       "\t<tr><td> 449           </td><td>0              </td><td>1163.870       </td><td>172.25380      </td><td>0              </td><td>1516.5692      </td><td>1594.9426      </td><td>0              </td><td>PDK4           </td><td>ENST00000005178</td></tr>\n",
       "\t<tr><td> 464           </td><td>0              </td><td>1046.171       </td><td>176.23787      </td><td>0              </td><td> 426.7720      </td><td>1631.8320      </td><td>0              </td><td>PDK4           </td><td>ENST00000005178</td></tr>\n",
       "\t<tr><td> 608           </td><td>0              </td><td>1088.197       </td><td>206.79623      </td><td>0              </td><td> 815.8987      </td><td>1914.7798      </td><td>0              </td><td>PDK4           </td><td>ENST00000005178</td></tr>\n",
       "\t<tr><td> 711           </td><td>0              </td><td>1074.492       </td><td> 61.77600      </td><td>1              </td><td> 689.0000      </td><td> 572.0000      </td><td>0              </td><td>PDK4           </td><td>ENST00000005178</td></tr>\n",
       "\t<tr><td> 769           </td><td>0              </td><td>1198.753       </td><td> 83.17355      </td><td>1              </td><td>1839.5686      </td><td> 770.1255      </td><td>0              </td><td>PDK4           </td><td>ENST00000005178</td></tr>\n",
       "\t<tr><td> 883           </td><td>0              </td><td>1105.524       </td><td>130.97194      </td><td>1              </td><td> 976.3314      </td><td>1212.7031      </td><td>0              </td><td>PDK4           </td><td>ENST00000005178</td></tr>\n",
       "\t<tr><td> 914           </td><td>0              </td><td>1091.664       </td><td>137.12666      </td><td>1              </td><td> 848.0000      </td><td>1269.6913      </td><td>0              </td><td>PDK4           </td><td>ENST00000005178</td></tr>\n",
       "\t<tr><td> 940           </td><td>0              </td><td>1104.118       </td><td>142.45201      </td><td>1              </td><td> 963.3129      </td><td>1319.0000      </td><td>0              </td><td>PDK4           </td><td>ENST00000005178</td></tr>\n",
       "\t<tr><td>1007           </td><td>0              </td><td>1094.495       </td><td>162.56868      </td><td>1              </td><td> 874.2164      </td><td>1505.2655      </td><td>0              </td><td>PDK4           </td><td>ENST00000005178</td></tr>\n",
       "\t<tr><td>1059           </td><td>0              </td><td>1102.572       </td><td>171.78922      </td><td>1              </td><td> 949.0000      </td><td>1590.6409      </td><td>0              </td><td>PDK4           </td><td>ENST00000005178</td></tr>\n",
       "\t<tr><td>1081           </td><td>0              </td><td>1097.043       </td><td>175.68756      </td><td>1              </td><td> 897.8097      </td><td>1626.7366      </td><td>0              </td><td>PDK4           </td><td>ENST00000005178</td></tr>\n",
       "\t<tr><td>1102           </td><td>0              </td><td>1173.960       </td><td>181.00801      </td><td>1              </td><td>1610.0000      </td><td>1676.0000      </td><td>0              </td><td>PDK4           </td><td>ENST00000005178</td></tr>\n",
       "\t<tr><td>1109           </td><td>0              </td><td>1169.047       </td><td>182.68398      </td><td>1              </td><td>1564.5089      </td><td>1691.5182      </td><td>0              </td><td>PDK4           </td><td>ENST00000005178</td></tr>\n",
       "\t<tr><td>1239           </td><td>0              </td><td>1070.748       </td><td>207.43144      </td><td>1              </td><td> 654.3293      </td><td>1920.6615      </td><td>0              </td><td>PDK4           </td><td>ENST00000005178</td></tr>\n",
       "</tbody>\n",
       "</table>\n"
      ],
      "text/latex": [
       "\\begin{tabular}{r|llllllllll}\n",
       " X & barcode\\_id & global\\_x & global\\_y & global\\_z & x & y & fov & gene & transcript\\_id\\\\\n",
       "\\hline\n",
       "\t  102            & 0               & 1143.682        &  65.79964       & 0               & 1329.6451       &  609.2559       & 0               & PDK4            & ENST00000005178\\\\\n",
       "\t  163            & 0               & 1111.368        &  90.13365       & 0               & 1030.4442       &  834.5709       & 0               & PDK4            & ENST00000005178\\\\\n",
       "\t  292            & 0               & 1089.453        & 137.15580       & 0               &  827.5248       & 1269.9612       & 0               & PDK4            & ENST00000005178\\\\\n",
       "\t  357            & 0               & 1088.640        & 149.50612       & 0               &  820.0000       & 1384.3159       & 0               & PDK4            & ENST00000005178\\\\\n",
       "\t  422            & 0               & 1101.750        & 167.85127       & 0               &  941.3859       & 1554.1783       & 0               & PDK4            & ENST00000005178\\\\\n",
       "\t  433            & 0               & 1107.679        & 170.02798       & 0               &  996.2849       & 1574.3331       & 0               & PDK4            & ENST00000005178\\\\\n",
       "\t  449            & 0               & 1163.870        & 172.25380       & 0               & 1516.5692       & 1594.9426       & 0               & PDK4            & ENST00000005178\\\\\n",
       "\t  464            & 0               & 1046.171        & 176.23787       & 0               &  426.7720       & 1631.8320       & 0               & PDK4            & ENST00000005178\\\\\n",
       "\t  608            & 0               & 1088.197        & 206.79623       & 0               &  815.8987       & 1914.7798       & 0               & PDK4            & ENST00000005178\\\\\n",
       "\t  711            & 0               & 1074.492        &  61.77600       & 1               &  689.0000       &  572.0000       & 0               & PDK4            & ENST00000005178\\\\\n",
       "\t  769            & 0               & 1198.753        &  83.17355       & 1               & 1839.5686       &  770.1255       & 0               & PDK4            & ENST00000005178\\\\\n",
       "\t  883            & 0               & 1105.524        & 130.97194       & 1               &  976.3314       & 1212.7031       & 0               & PDK4            & ENST00000005178\\\\\n",
       "\t  914            & 0               & 1091.664        & 137.12666       & 1               &  848.0000       & 1269.6913       & 0               & PDK4            & ENST00000005178\\\\\n",
       "\t  940            & 0               & 1104.118        & 142.45201       & 1               &  963.3129       & 1319.0000       & 0               & PDK4            & ENST00000005178\\\\\n",
       "\t 1007            & 0               & 1094.495        & 162.56868       & 1               &  874.2164       & 1505.2655       & 0               & PDK4            & ENST00000005178\\\\\n",
       "\t 1059            & 0               & 1102.572        & 171.78922       & 1               &  949.0000       & 1590.6409       & 0               & PDK4            & ENST00000005178\\\\\n",
       "\t 1081            & 0               & 1097.043        & 175.68756       & 1               &  897.8097       & 1626.7366       & 0               & PDK4            & ENST00000005178\\\\\n",
       "\t 1102            & 0               & 1173.960        & 181.00801       & 1               & 1610.0000       & 1676.0000       & 0               & PDK4            & ENST00000005178\\\\\n",
       "\t 1109            & 0               & 1169.047        & 182.68398       & 1               & 1564.5089       & 1691.5182       & 0               & PDK4            & ENST00000005178\\\\\n",
       "\t 1239            & 0               & 1070.748        & 207.43144       & 1               &  654.3293       & 1920.6615       & 0               & PDK4            & ENST00000005178\\\\\n",
       "\\end{tabular}\n"
      ],
      "text/markdown": [
       "\n",
       "X | barcode_id | global_x | global_y | global_z | x | y | fov | gene | transcript_id | \n",
       "|---|---|---|---|---|---|---|---|---|---|---|---|---|---|---|---|---|---|---|---|\n",
       "|  102            | 0               | 1143.682        |  65.79964       | 0               | 1329.6451       |  609.2559       | 0               | PDK4            | ENST00000005178 | \n",
       "|  163            | 0               | 1111.368        |  90.13365       | 0               | 1030.4442       |  834.5709       | 0               | PDK4            | ENST00000005178 | \n",
       "|  292            | 0               | 1089.453        | 137.15580       | 0               |  827.5248       | 1269.9612       | 0               | PDK4            | ENST00000005178 | \n",
       "|  357            | 0               | 1088.640        | 149.50612       | 0               |  820.0000       | 1384.3159       | 0               | PDK4            | ENST00000005178 | \n",
       "|  422            | 0               | 1101.750        | 167.85127       | 0               |  941.3859       | 1554.1783       | 0               | PDK4            | ENST00000005178 | \n",
       "|  433            | 0               | 1107.679        | 170.02798       | 0               |  996.2849       | 1574.3331       | 0               | PDK4            | ENST00000005178 | \n",
       "|  449            | 0               | 1163.870        | 172.25380       | 0               | 1516.5692       | 1594.9426       | 0               | PDK4            | ENST00000005178 | \n",
       "|  464            | 0               | 1046.171        | 176.23787       | 0               |  426.7720       | 1631.8320       | 0               | PDK4            | ENST00000005178 | \n",
       "|  608            | 0               | 1088.197        | 206.79623       | 0               |  815.8987       | 1914.7798       | 0               | PDK4            | ENST00000005178 | \n",
       "|  711            | 0               | 1074.492        |  61.77600       | 1               |  689.0000       |  572.0000       | 0               | PDK4            | ENST00000005178 | \n",
       "|  769            | 0               | 1198.753        |  83.17355       | 1               | 1839.5686       |  770.1255       | 0               | PDK4            | ENST00000005178 | \n",
       "|  883            | 0               | 1105.524        | 130.97194       | 1               |  976.3314       | 1212.7031       | 0               | PDK4            | ENST00000005178 | \n",
       "|  914            | 0               | 1091.664        | 137.12666       | 1               |  848.0000       | 1269.6913       | 0               | PDK4            | ENST00000005178 | \n",
       "|  940            | 0               | 1104.118        | 142.45201       | 1               |  963.3129       | 1319.0000       | 0               | PDK4            | ENST00000005178 | \n",
       "| 1007            | 0               | 1094.495        | 162.56868       | 1               |  874.2164       | 1505.2655       | 0               | PDK4            | ENST00000005178 | \n",
       "| 1059            | 0               | 1102.572        | 171.78922       | 1               |  949.0000       | 1590.6409       | 0               | PDK4            | ENST00000005178 | \n",
       "| 1081            | 0               | 1097.043        | 175.68756       | 1               |  897.8097       | 1626.7366       | 0               | PDK4            | ENST00000005178 | \n",
       "| 1102            | 0               | 1173.960        | 181.00801       | 1               | 1610.0000       | 1676.0000       | 0               | PDK4            | ENST00000005178 | \n",
       "| 1109            | 0               | 1169.047        | 182.68398       | 1               | 1564.5089       | 1691.5182       | 0               | PDK4            | ENST00000005178 | \n",
       "| 1239            | 0               | 1070.748        | 207.43144       | 1               |  654.3293       | 1920.6615       | 0               | PDK4            | ENST00000005178 | \n",
       "\n",
       "\n"
      ],
      "text/plain": [
       "   X    barcode_id global_x global_y  global_z x         y         fov gene\n",
       "1   102 0          1143.682  65.79964 0        1329.6451  609.2559 0   PDK4\n",
       "2   163 0          1111.368  90.13365 0        1030.4442  834.5709 0   PDK4\n",
       "3   292 0          1089.453 137.15580 0         827.5248 1269.9612 0   PDK4\n",
       "4   357 0          1088.640 149.50612 0         820.0000 1384.3159 0   PDK4\n",
       "5   422 0          1101.750 167.85127 0         941.3859 1554.1783 0   PDK4\n",
       "6   433 0          1107.679 170.02798 0         996.2849 1574.3331 0   PDK4\n",
       "7   449 0          1163.870 172.25380 0        1516.5692 1594.9426 0   PDK4\n",
       "8   464 0          1046.171 176.23787 0         426.7720 1631.8320 0   PDK4\n",
       "9   608 0          1088.197 206.79623 0         815.8987 1914.7798 0   PDK4\n",
       "10  711 0          1074.492  61.77600 1         689.0000  572.0000 0   PDK4\n",
       "11  769 0          1198.753  83.17355 1        1839.5686  770.1255 0   PDK4\n",
       "12  883 0          1105.524 130.97194 1         976.3314 1212.7031 0   PDK4\n",
       "13  914 0          1091.664 137.12666 1         848.0000 1269.6913 0   PDK4\n",
       "14  940 0          1104.118 142.45201 1         963.3129 1319.0000 0   PDK4\n",
       "15 1007 0          1094.495 162.56868 1         874.2164 1505.2655 0   PDK4\n",
       "16 1059 0          1102.572 171.78922 1         949.0000 1590.6409 0   PDK4\n",
       "17 1081 0          1097.043 175.68756 1         897.8097 1626.7366 0   PDK4\n",
       "18 1102 0          1173.960 181.00801 1        1610.0000 1676.0000 0   PDK4\n",
       "19 1109 0          1169.047 182.68398 1        1564.5089 1691.5182 0   PDK4\n",
       "20 1239 0          1070.748 207.43144 1         654.3293 1920.6615 0   PDK4\n",
       "   transcript_id  \n",
       "1  ENST00000005178\n",
       "2  ENST00000005178\n",
       "3  ENST00000005178\n",
       "4  ENST00000005178\n",
       "5  ENST00000005178\n",
       "6  ENST00000005178\n",
       "7  ENST00000005178\n",
       "8  ENST00000005178\n",
       "9  ENST00000005178\n",
       "10 ENST00000005178\n",
       "11 ENST00000005178\n",
       "12 ENST00000005178\n",
       "13 ENST00000005178\n",
       "14 ENST00000005178\n",
       "15 ENST00000005178\n",
       "16 ENST00000005178\n",
       "17 ENST00000005178\n",
       "18 ENST00000005178\n",
       "19 ENST00000005178\n",
       "20 ENST00000005178"
      ]
     },
     "metadata": {},
     "output_type": "display_data"
    }
   ],
   "source": [
    "trans_micron"
   ]
  },
  {
   "cell_type": "code",
   "execution_count": 7,
   "metadata": {
    "vscode": {
     "languageId": "r"
    }
   },
   "outputs": [
    {
     "data": {
      "text/html": [
       "<table>\n",
       "<thead><tr><th scope=col>X</th><th scope=col>barcode_id</th><th scope=col>global_x</th><th scope=col>global_y</th><th scope=col>global_z</th><th scope=col>x</th><th scope=col>y</th><th scope=col>fov</th><th scope=col>gene</th><th scope=col>transcript_id</th></tr></thead>\n",
       "<tbody>\n",
       "\t<tr><td>102            </td><td>0              </td><td>10589.716      </td><td> 609.2636      </td><td>0              </td><td>1329.6451      </td><td> 609.2559      </td><td>0              </td><td>PDK4           </td><td>ENST00000005178</td></tr>\n",
       "\t<tr><td>163            </td><td>0              </td><td>10290.514      </td><td> 834.5813      </td><td>0              </td><td>1030.4442      </td><td> 834.5709      </td><td>0              </td><td>PDK4           </td><td>ENST00000005178</td></tr>\n",
       "\t<tr><td>292            </td><td>0              </td><td>10087.594      </td><td>1269.9771      </td><td>0              </td><td> 827.5248      </td><td>1269.9612      </td><td>0              </td><td>PDK4           </td><td>ENST00000005178</td></tr>\n",
       "\t<tr><td>357            </td><td>0              </td><td>10080.068      </td><td>1384.3333      </td><td>0              </td><td> 820.0000      </td><td>1384.3159      </td><td>0              </td><td>PDK4           </td><td>ENST00000005178</td></tr>\n",
       "\t<tr><td>422            </td><td>0              </td><td>10201.456      </td><td>1554.1979      </td><td>0              </td><td> 941.3859      </td><td>1554.1783      </td><td>0              </td><td>PDK4           </td><td>ENST00000005178</td></tr>\n",
       "\t<tr><td>433            </td><td>0              </td><td>10256.355      </td><td>1574.3529      </td><td>0              </td><td> 996.2849      </td><td>1574.3331      </td><td>0              </td><td>PDK4           </td><td>ENST00000005178</td></tr>\n",
       "\t<tr><td>449            </td><td>0              </td><td>10776.643      </td><td>1594.9626      </td><td>0              </td><td>1516.5692      </td><td>1594.9426      </td><td>0              </td><td>PDK4           </td><td>ENST00000005178</td></tr>\n",
       "\t<tr><td>464            </td><td>0              </td><td> 9686.838      </td><td>1631.8526      </td><td>0              </td><td> 426.7720      </td><td>1631.8320      </td><td>0              </td><td>PDK4           </td><td>ENST00000005178</td></tr>\n",
       "\t<tr><td>608            </td><td>0              </td><td>10075.968      </td><td>1914.8040      </td><td>0              </td><td> 815.8987      </td><td>1914.7798      </td><td>0              </td><td>PDK4           </td><td>ENST00000005178</td></tr>\n",
       "\t<tr><td>711            </td><td>0              </td><td> 9949.069      </td><td> 572.0072      </td><td>1              </td><td> 689.0000      </td><td> 572.0000      </td><td>0              </td><td>PDK4           </td><td>ENST00000005178</td></tr>\n",
       "</tbody>\n",
       "</table>\n"
      ],
      "text/latex": [
       "\\begin{tabular}{r|llllllllll}\n",
       " X & barcode\\_id & global\\_x & global\\_y & global\\_z & x & y & fov & gene & transcript\\_id\\\\\n",
       "\\hline\n",
       "\t 102             & 0               & 10589.716       &  609.2636       & 0               & 1329.6451       &  609.2559       & 0               & PDK4            & ENST00000005178\\\\\n",
       "\t 163             & 0               & 10290.514       &  834.5813       & 0               & 1030.4442       &  834.5709       & 0               & PDK4            & ENST00000005178\\\\\n",
       "\t 292             & 0               & 10087.594       & 1269.9771       & 0               &  827.5248       & 1269.9612       & 0               & PDK4            & ENST00000005178\\\\\n",
       "\t 357             & 0               & 10080.068       & 1384.3333       & 0               &  820.0000       & 1384.3159       & 0               & PDK4            & ENST00000005178\\\\\n",
       "\t 422             & 0               & 10201.456       & 1554.1979       & 0               &  941.3859       & 1554.1783       & 0               & PDK4            & ENST00000005178\\\\\n",
       "\t 433             & 0               & 10256.355       & 1574.3529       & 0               &  996.2849       & 1574.3331       & 0               & PDK4            & ENST00000005178\\\\\n",
       "\t 449             & 0               & 10776.643       & 1594.9626       & 0               & 1516.5692       & 1594.9426       & 0               & PDK4            & ENST00000005178\\\\\n",
       "\t 464             & 0               &  9686.838       & 1631.8526       & 0               &  426.7720       & 1631.8320       & 0               & PDK4            & ENST00000005178\\\\\n",
       "\t 608             & 0               & 10075.968       & 1914.8040       & 0               &  815.8987       & 1914.7798       & 0               & PDK4            & ENST00000005178\\\\\n",
       "\t 711             & 0               &  9949.069       &  572.0072       & 1               &  689.0000       &  572.0000       & 0               & PDK4            & ENST00000005178\\\\\n",
       "\\end{tabular}\n"
      ],
      "text/markdown": [
       "\n",
       "X | barcode_id | global_x | global_y | global_z | x | y | fov | gene | transcript_id | \n",
       "|---|---|---|---|---|---|---|---|---|---|\n",
       "| 102             | 0               | 10589.716       |  609.2636       | 0               | 1329.6451       |  609.2559       | 0               | PDK4            | ENST00000005178 | \n",
       "| 163             | 0               | 10290.514       |  834.5813       | 0               | 1030.4442       |  834.5709       | 0               | PDK4            | ENST00000005178 | \n",
       "| 292             | 0               | 10087.594       | 1269.9771       | 0               |  827.5248       | 1269.9612       | 0               | PDK4            | ENST00000005178 | \n",
       "| 357             | 0               | 10080.068       | 1384.3333       | 0               |  820.0000       | 1384.3159       | 0               | PDK4            | ENST00000005178 | \n",
       "| 422             | 0               | 10201.456       | 1554.1979       | 0               |  941.3859       | 1554.1783       | 0               | PDK4            | ENST00000005178 | \n",
       "| 433             | 0               | 10256.355       | 1574.3529       | 0               |  996.2849       | 1574.3331       | 0               | PDK4            | ENST00000005178 | \n",
       "| 449             | 0               | 10776.643       | 1594.9626       | 0               | 1516.5692       | 1594.9426       | 0               | PDK4            | ENST00000005178 | \n",
       "| 464             | 0               |  9686.838       | 1631.8526       | 0               |  426.7720       | 1631.8320       | 0               | PDK4            | ENST00000005178 | \n",
       "| 608             | 0               | 10075.968       | 1914.8040       | 0               |  815.8987       | 1914.7798       | 0               | PDK4            | ENST00000005178 | \n",
       "| 711             | 0               |  9949.069       |  572.0072       | 1               |  689.0000       |  572.0000       | 0               | PDK4            | ENST00000005178 | \n",
       "\n",
       "\n"
      ],
      "text/plain": [
       "   X   barcode_id global_x  global_y  global_z x         y         fov gene\n",
       "1  102 0          10589.716  609.2636 0        1329.6451  609.2559 0   PDK4\n",
       "2  163 0          10290.514  834.5813 0        1030.4442  834.5709 0   PDK4\n",
       "3  292 0          10087.594 1269.9771 0         827.5248 1269.9612 0   PDK4\n",
       "4  357 0          10080.068 1384.3333 0         820.0000 1384.3159 0   PDK4\n",
       "5  422 0          10201.456 1554.1979 0         941.3859 1554.1783 0   PDK4\n",
       "6  433 0          10256.355 1574.3529 0         996.2849 1574.3331 0   PDK4\n",
       "7  449 0          10776.643 1594.9626 0        1516.5692 1594.9426 0   PDK4\n",
       "8  464 0           9686.838 1631.8526 0         426.7720 1631.8320 0   PDK4\n",
       "9  608 0          10075.968 1914.8040 0         815.8987 1914.7798 0   PDK4\n",
       "10 711 0           9949.069  572.0072 1         689.0000  572.0000 0   PDK4\n",
       "   transcript_id  \n",
       "1  ENST00000005178\n",
       "2  ENST00000005178\n",
       "3  ENST00000005178\n",
       "4  ENST00000005178\n",
       "5  ENST00000005178\n",
       "6  ENST00000005178\n",
       "7  ENST00000005178\n",
       "8  ENST00000005178\n",
       "9  ENST00000005178\n",
       "10 ENST00000005178"
      ]
     },
     "metadata": {},
     "output_type": "display_data"
    }
   ],
   "source": [
    "con = file(\"detected_transcripts_pixel_space_goodgenes.csv\", \"r\")\n",
    "trans_pixel = read.csv(con, nrows = 10)\n",
    "trans_pixel"
   ]
  },
  {
   "cell_type": "code",
   "execution_count": null,
   "metadata": {
    "vscode": {
     "languageId": "r"
    }
   },
   "outputs": [],
   "source": []
  }
 ],
 "metadata": {
  "kernelspec": {
   "display_name": "R",
   "language": "R",
   "name": "ir"
  },
  "language_info": {
   "codemirror_mode": "r",
   "file_extension": ".r",
   "mimetype": "text/x-r-source",
   "name": "R",
   "pygments_lexer": "r",
   "version": "3.4.3"
  }
 },
 "nbformat": 4,
 "nbformat_minor": 2
}
