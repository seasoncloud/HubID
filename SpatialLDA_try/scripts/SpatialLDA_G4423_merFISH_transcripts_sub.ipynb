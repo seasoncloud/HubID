{
 "cells": [
  {
   "cell_type": "code",
   "execution_count": null,
   "id": "2c350ee4",
   "metadata": {},
   "outputs": [],
   "source": [
    "# !apt-get install git-lfs\n",
    "# !git lfs install  \n",
    "# !git clone https://github.com/calico/spatial_lda.git\n",
    "# !pip install lifelines\n",
    "# !pip install palettable\n",
    "\n",
    "\n",
    "# package location: /wynton/home/engelhardt/chwu/miniconda3/envs/NSF38/lib/python3.8/site-packages/spatial_lda"
   ]
  },
  {
   "cell_type": "code",
   "execution_count": null,
   "id": "f892f8f9",
   "metadata": {},
   "outputs": [],
   "source": []
  },
  {
   "cell_type": "code",
   "execution_count": 15,
   "id": "de424a8f",
   "metadata": {},
   "outputs": [],
   "source": [
    "import os\n",
    "import sys\n",
    "\n",
    "os.chdir(\"/wynton/home/engelhardt/chwu/Projects/HubID/SpatialLDA\")\n",
    "PATH_TO_MODELS = f'./models/'\n",
    "#PATH_TO_DF_PKL = f'./data//spleen_df.pkl'\n",
    "PATH_TO_FEATURES_PKL = f'./data/G4423_transcript_features_sub_region2_sub_mst_voronoi_d025.pkl'\n",
    "\n",
    "# paths = [\n",
    "#   PATH_TO_MODELS,\n",
    "#   PATH_TO_SPLEEN_DF_PKL\n",
    "# ]\n",
    "\n",
    "# paths_exist = {path: os.path.exists(path) for path in paths}\n",
    "# display(paths_exist)\n",
    "# assert all(paths_exist.values())\n"
   ]
  },
  {
   "cell_type": "code",
   "execution_count": null,
   "id": "c0a086d9",
   "metadata": {},
   "outputs": [],
   "source": []
  },
  {
   "cell_type": "code",
   "execution_count": 2,
   "id": "9ef5045f",
   "metadata": {},
   "outputs": [
    {
     "name": "stderr",
     "output_type": "stream",
     "text": [
      "/wynton/home/engelhardt/chwu/miniconda3/envs/NSF38/lib/python3.8/site-packages/tqdm/auto.py:22: TqdmWarning: IProgress not found. Please update jupyter and ipywidgets. See https://ipywidgets.readthedocs.io/en/stable/user_install.html\n",
      "  from .autonotebook import tqdm as notebook_tqdm\n"
     ]
    }
   ],
   "source": [
    "%load_ext autoreload\n",
    "%autoreload 2\n",
    "\n",
    "import functools\n",
    "import logging\n",
    "import numpy as np\n",
    "import matplotlib.pyplot as plt\n",
    "import pandas as pd\n",
    "import os\n",
    "import pickle\n",
    "import scipy\n",
    "import seaborn as sns\n",
    "from sklearn.model_selection import train_test_split\n",
    "import time\n",
    "import tqdm\n",
    "# Spatial LDA imports\n",
    "from spatial_lda.featurization import neighborhood_to_cluster#, neighborhood_to_marker\n",
    "from spatial_lda.featurization import make_nearest_neighbor_graph_distance\n",
    "from spatial_lda.featurization import make_nearest_neighbor_graph\n",
    "from spatial_lda.featurization import make_merged_difference_matrices\n",
    "from spatial_lda.featurization import make_merged_difference_matrices_ori\n",
    "from spatial_lda.featurization import featurize_samples\n",
    "from spatial_lda.visualization import plot_samples_in_a_row\n",
    "from spatial_lda.visualization import plot_bcell_topic_multicolor\n",
    "from spatial_lda.visualization import plot_topic_multicolor\n",
    "import spatial_lda.model\n",
    "\n",
    "N_PARALLEL_PROCESSES = 8#@param\n",
    "TRAIN_SIZE_FRACTION = 0.99 #@param\n",
    "N_TOPICS_LIST = [3, 5, 8, 10] #@param\n",
    "\n",
    "logger = logging.getLogger()\n",
    "logger.setLevel(logging.INFO)"
   ]
  },
  {
   "cell_type": "code",
   "execution_count": null,
   "id": "0e4ad0fa",
   "metadata": {},
   "outputs": [],
   "source": [
    "\n",
    "# import inspect\n",
    "# lines = inspect.getsource(neighborhood_to_cluster)\n",
    "# print(lines)\n"
   ]
  },
  {
   "cell_type": "code",
   "execution_count": 3,
   "id": "96748d9b",
   "metadata": {},
   "outputs": [],
   "source": [
    "# visualization parameters\n",
    "blue = sns.color_palette()[0]\n",
    "green = sns.color_palette()[1]\n",
    "red = sns.color_palette()[2]\n",
    "sns.set_context(\"paper\",font_scale=1)\n",
    "sns.set_style('white')\n",
    "sns.set_context(\"notebook\", font_scale=1.0, rc={\"lines.linewidth\": 1.0})"
   ]
  },
  {
   "cell_type": "code",
   "execution_count": 4,
   "id": "788c88a6",
   "metadata": {},
   "outputs": [],
   "source": [
    "# mtx=scipy.sparse.load_npz(\"../neighbor_smooth/Data/G4423_15_neighbor_sums.npz\")\n",
    "# with open(\"../neighbor_smooth//Data/G4423_15_neighbor_sums_colnames.csv\", \"r+\") as file1:\n",
    "#     # Reading form a file\n",
    "#     colnames=file1.read()\n",
    "    \n",
    "# colnames=colnames.strip(\"\\n\").split(\",\")\n",
    "\n",
    "\n",
    "mtx=pd.read_csv(\"/gladstone/engelhardt/pelka-collaboration/Broad_MERFISH_Datasets/G4423_20220427/detected_transcripts.csv\")"
   ]
  },
  {
   "cell_type": "code",
   "execution_count": 5,
   "id": "f2bbde23",
   "metadata": {},
   "outputs": [],
   "source": [
    "mtx['cluster']=mtx['gene']"
   ]
  },
  {
   "cell_type": "code",
   "execution_count": 6,
   "id": "c5c80fc2",
   "metadata": {},
   "outputs": [
    {
     "data": {
      "text/html": [
       "<div>\n",
       "<style scoped>\n",
       "    .dataframe tbody tr th:only-of-type {\n",
       "        vertical-align: middle;\n",
       "    }\n",
       "\n",
       "    .dataframe tbody tr th {\n",
       "        vertical-align: top;\n",
       "    }\n",
       "\n",
       "    .dataframe thead th {\n",
       "        text-align: right;\n",
       "    }\n",
       "</style>\n",
       "<table border=\"1\" class=\"dataframe\">\n",
       "  <thead>\n",
       "    <tr style=\"text-align: right;\">\n",
       "      <th></th>\n",
       "      <th>Unnamed: 0</th>\n",
       "      <th>barcode_id</th>\n",
       "      <th>global_x</th>\n",
       "      <th>global_y</th>\n",
       "      <th>global_z</th>\n",
       "      <th>x</th>\n",
       "      <th>y</th>\n",
       "      <th>fov</th>\n",
       "      <th>gene</th>\n",
       "      <th>transcript_id</th>\n",
       "      <th>cluster</th>\n",
       "    </tr>\n",
       "  </thead>\n",
       "  <tbody>\n",
       "    <tr>\n",
       "      <th>0</th>\n",
       "      <td>5159</td>\n",
       "      <td>2</td>\n",
       "      <td>322.10700</td>\n",
       "      <td>695.01000</td>\n",
       "      <td>0.0</td>\n",
       "      <td>473.75510</td>\n",
       "      <td>284.62370</td>\n",
       "      <td>0</td>\n",
       "      <td>COL3A1</td>\n",
       "      <td>304636.0</td>\n",
       "      <td>COL3A1</td>\n",
       "    </tr>\n",
       "    <tr>\n",
       "      <th>1</th>\n",
       "      <td>5181</td>\n",
       "      <td>2</td>\n",
       "      <td>292.88403</td>\n",
       "      <td>711.09576</td>\n",
       "      <td>0.0</td>\n",
       "      <td>203.17223</td>\n",
       "      <td>433.56590</td>\n",
       "      <td>0</td>\n",
       "      <td>COL3A1</td>\n",
       "      <td>304636.0</td>\n",
       "      <td>COL3A1</td>\n",
       "    </tr>\n",
       "    <tr>\n",
       "      <th>2</th>\n",
       "      <td>5210</td>\n",
       "      <td>2</td>\n",
       "      <td>288.14970</td>\n",
       "      <td>728.09550</td>\n",
       "      <td>0.0</td>\n",
       "      <td>159.33578</td>\n",
       "      <td>590.97125</td>\n",
       "      <td>0</td>\n",
       "      <td>COL3A1</td>\n",
       "      <td>304636.0</td>\n",
       "      <td>COL3A1</td>\n",
       "    </tr>\n",
       "    <tr>\n",
       "      <th>3</th>\n",
       "      <td>5217</td>\n",
       "      <td>2</td>\n",
       "      <td>309.84427</td>\n",
       "      <td>733.52390</td>\n",
       "      <td>0.0</td>\n",
       "      <td>360.21143</td>\n",
       "      <td>641.23425</td>\n",
       "      <td>0</td>\n",
       "      <td>COL3A1</td>\n",
       "      <td>304636.0</td>\n",
       "      <td>COL3A1</td>\n",
       "    </tr>\n",
       "    <tr>\n",
       "      <th>4</th>\n",
       "      <td>5238</td>\n",
       "      <td>2</td>\n",
       "      <td>359.82944</td>\n",
       "      <td>744.04250</td>\n",
       "      <td>0.0</td>\n",
       "      <td>823.03710</td>\n",
       "      <td>738.62810</td>\n",
       "      <td>0</td>\n",
       "      <td>COL3A1</td>\n",
       "      <td>304636.0</td>\n",
       "      <td>COL3A1</td>\n",
       "    </tr>\n",
       "  </tbody>\n",
       "</table>\n",
       "</div>"
      ],
      "text/plain": [
       "   Unnamed: 0  barcode_id   global_x   global_y  global_z          x  \\\n",
       "0        5159           2  322.10700  695.01000       0.0  473.75510   \n",
       "1        5181           2  292.88403  711.09576       0.0  203.17223   \n",
       "2        5210           2  288.14970  728.09550       0.0  159.33578   \n",
       "3        5217           2  309.84427  733.52390       0.0  360.21143   \n",
       "4        5238           2  359.82944  744.04250       0.0  823.03710   \n",
       "\n",
       "           y  fov    gene  transcript_id cluster  \n",
       "0  284.62370    0  COL3A1       304636.0  COL3A1  \n",
       "1  433.56590    0  COL3A1       304636.0  COL3A1  \n",
       "2  590.97125    0  COL3A1       304636.0  COL3A1  \n",
       "3  641.23425    0  COL3A1       304636.0  COL3A1  \n",
       "4  738.62810    0  COL3A1       304636.0  COL3A1  "
      ]
     },
     "execution_count": 6,
     "metadata": {},
     "output_type": "execute_result"
    }
   ],
   "source": [
    "mtx.head()"
   ]
  },
  {
   "cell_type": "code",
   "execution_count": null,
   "id": "f3b8314a",
   "metadata": {},
   "outputs": [],
   "source": [
    "# mtx=mtx.iloc[:,1:]\n",
    "# mtx"
   ]
  },
  {
   "cell_type": "code",
   "execution_count": null,
   "id": "dfaa02a4",
   "metadata": {},
   "outputs": [],
   "source": [
    "# markers= mtx.columns\n",
    "# markers=markers.tolist()\n",
    "# len(markers)"
   ]
  },
  {
   "cell_type": "code",
   "execution_count": null,
   "id": "6c997ec5",
   "metadata": {},
   "outputs": [],
   "source": [
    "# mtx2=scipy.sparse.csr_matrix(np.array(mtx))\n",
    "# scipy.sparse.save_npz('./Data/G4423_15_neighbor_sums.npz', mtx2)"
   ]
  },
  {
   "cell_type": "code",
   "execution_count": null,
   "id": "309fcc31",
   "metadata": {},
   "outputs": [],
   "source": [
    "# mtx=pd.DataFrame(mtx.todense())\n",
    "# mtx.columns=colnames\n",
    "# mtx=mtx.iloc[:,1:]\n",
    "# mtx"
   ]
  },
  {
   "cell_type": "code",
   "execution_count": 7,
   "id": "6208bfcb",
   "metadata": {},
   "outputs": [
    {
     "data": {
      "text/plain": [
       "array([[  322.107  ,   695.01   ],\n",
       "       [  292.88403,   711.09576],\n",
       "       [  288.1497 ,   728.0955 ],\n",
       "       ...,\n",
       "       [14148.885  , 10118.43   ],\n",
       "       [14215.998  , 10110.184  ],\n",
       "       [14147.934  , 10245.508  ]])"
      ]
     },
     "execution_count": 7,
     "metadata": {},
     "output_type": "execute_result"
    }
   ],
   "source": [
    "# import spatial info\n",
    "#meta=pd.read_csv('/wynton/group/gladstone/users/cywu/Broad_MERFISH_Datasets/G4423_20220427/cellpose_cell_metadata.csv')\n",
    "#meta=pd.read_csv('/gladstone/engelhardt/pelka-collaboration/Broad_MERFISH_Datasets/G4423_20220427/cellpose_cell_metadata.csv')\n",
    "coordinates0=np.array(mtx[['global_x', 'global_y']])\n",
    "coordinates=coordinates0\n",
    "coordinates\n",
    "\n"
   ]
  },
  {
   "cell_type": "code",
   "execution_count": null,
   "id": "1e7dc7b1",
   "metadata": {},
   "outputs": [],
   "source": []
  },
  {
   "cell_type": "code",
   "execution_count": 8,
   "id": "58cf0de1",
   "metadata": {},
   "outputs": [],
   "source": [
    "# flip y\n",
    "coordinates[:,1]=max(coordinates0[:,1])-coordinates0[:,1]"
   ]
  },
  {
   "cell_type": "code",
   "execution_count": 9,
   "id": "dc0283d8",
   "metadata": {},
   "outputs": [
    {
     "data": {
      "text/plain": [
       "array([[  322.107  , 10945.713  ],\n",
       "       [  292.88403, 10929.62724],\n",
       "       [  288.1497 , 10912.6275 ],\n",
       "       ...,\n",
       "       [14148.885  ,  1522.293  ],\n",
       "       [14215.998  ,  1530.539  ],\n",
       "       [14147.934  ,  1395.215  ]])"
      ]
     },
     "execution_count": 9,
     "metadata": {},
     "output_type": "execute_result"
    }
   ],
   "source": [
    "coordinates"
   ]
  },
  {
   "cell_type": "code",
   "execution_count": null,
   "id": "1e63930a",
   "metadata": {},
   "outputs": [],
   "source": [
    "#print(list(mtx.columns[0:550]))"
   ]
  },
  {
   "cell_type": "markdown",
   "id": "11c53771",
   "metadata": {},
   "source": [
    "# Generate inputs for running Spatial LDA"
   ]
  },
  {
   "cell_type": "code",
   "execution_count": 10,
   "id": "334a32c0",
   "metadata": {},
   "outputs": [],
   "source": [
    "mtx['isb']=True\n",
    "mtx['sample']='G4423'\n",
    "mtx['sample.X']=coordinates[:,0]\n",
    "mtx['sample.Y']=coordinates[:,1]\n",
    "\n"
   ]
  },
  {
   "cell_type": "code",
   "execution_count": 14,
   "id": "be4e92bb",
   "metadata": {},
   "outputs": [
    {
     "data": {
      "text/plain": [
       "{'G4423':           Unnamed: 0  barcode_id   global_x    global_y  global_z           x  \\\n",
       " 4198595          170           0  4500.6885 -205.822940       0.0  1596.43710   \n",
       " 4198596          174           0  4515.1660 -205.171980       0.0  1730.48660   \n",
       " 4198600          206           0  4520.9673 -201.739430       0.0  1784.20180   \n",
       " 4198604          248           0  4529.0190 -197.161270       0.0  1858.75440   \n",
       " 4198610          298           0  4527.5874 -192.488740       0.0  1845.50090   \n",
       " ...              ...         ...        ...         ...       ...         ...   \n",
       " 10192869     2196174         541  5746.0610  137.851940       4.0   174.46877   \n",
       " 10192882     2209576         543  5748.1406    9.223935       3.0   193.72676   \n",
       " 10192921     2228900         546  5748.1050   33.829740       1.0   193.39563   \n",
       " 10192941     2241930         548  5745.8145   66.090614       6.0   172.18507   \n",
       " 10192944     2243544         549  5741.8840  144.504000       2.0   135.79263   \n",
       " \n",
       "                    y  fov      gene  transcript_id   cluster   isb sample  \\\n",
       " 4198595    370.80520  340      KRT8       546583.0      KRT8  True  G4423   \n",
       " 4198596    376.83255  340      KRT8       546583.0      KRT8  True  G4423   \n",
       " 4198600    408.61554  340      KRT8       546583.0      KRT8  True  G4423   \n",
       " 4198604    451.00583  340      KRT8       546583.0      KRT8  True  G4423   \n",
       " 4198610    494.27000  340      KRT8       546583.0      KRT8  True  G4423   \n",
       " ...              ...  ...       ...            ...       ...   ...    ...   \n",
       " 10192869  1300.00000  565  Blank-62           -1.0  Blank-62  True  G4423   \n",
       " 10192882   109.00000  565  Blank-64           -1.0  Blank-64  True  G4423   \n",
       " 10192921   336.83148  565  Blank-67           -1.0  Blank-67  True  G4423   \n",
       " 10192941   635.54330  565  Blank-69           -1.0  Blank-69  True  G4423   \n",
       " 10192944  1361.59330  565  Blank-70           -1.0  Blank-70  True  G4423   \n",
       " \n",
       "            sample.X      sample.Y  \n",
       " 4198595   4500.6885  11846.545940  \n",
       " 4198596   4515.1660  11845.894980  \n",
       " 4198600   4520.9673  11842.462430  \n",
       " 4198604   4529.0190  11837.884270  \n",
       " 4198610   4527.5874  11833.211740  \n",
       " ...             ...           ...  \n",
       " 10192869  5746.0610  11502.871060  \n",
       " 10192882  5748.1406  11631.499065  \n",
       " 10192921  5748.1050  11606.893260  \n",
       " 10192941  5745.8145  11574.632386  \n",
       " 10192944  5741.8840  11496.219000  \n",
       " \n",
       " [2803989 rows x 15 columns]}"
      ]
     },
     "execution_count": 14,
     "metadata": {},
     "output_type": "execute_result"
    }
   ],
   "source": [
    "# subsample and generate dic\n",
    "import random\n",
    "random.seed(100)\n",
    "#idx=random.sample(range((mtx.shape[0])), 5000)#int(mtx.shape[0]*0.1))\n",
    "idx=np.array([*range(mtx.shape[0])])\n",
    "idx=idx[((coordinates[:,0]>4500) & (coordinates[:,0]<5750)) & ((coordinates[:,1]<max(coordinates[:,1])) & (coordinates[:,1]>(max(coordinates[:,1])-1250)))]\n",
    "\n",
    "df_dict = {'G4423': mtx.loc[idx]}\n",
    "#df_dict['G4423_2']=mtx.loc[idx[1000:2000]]\n",
    "df_dict"
   ]
  },
  {
   "cell_type": "code",
   "execution_count": 12,
   "id": "56f96ef4",
   "metadata": {},
   "outputs": [
    {
     "data": {
      "text/html": [
       "<div>\n",
       "<style scoped>\n",
       "    .dataframe tbody tr th:only-of-type {\n",
       "        vertical-align: middle;\n",
       "    }\n",
       "\n",
       "    .dataframe tbody tr th {\n",
       "        vertical-align: top;\n",
       "    }\n",
       "\n",
       "    .dataframe thead th {\n",
       "        text-align: right;\n",
       "    }\n",
       "</style>\n",
       "<table border=\"1\" class=\"dataframe\">\n",
       "  <thead>\n",
       "    <tr style=\"text-align: right;\">\n",
       "      <th></th>\n",
       "      <th>Unnamed: 0</th>\n",
       "      <th>barcode_id</th>\n",
       "      <th>global_x</th>\n",
       "      <th>global_y</th>\n",
       "      <th>global_z</th>\n",
       "      <th>x</th>\n",
       "      <th>y</th>\n",
       "      <th>fov</th>\n",
       "      <th>gene</th>\n",
       "      <th>transcript_id</th>\n",
       "      <th>cluster</th>\n",
       "      <th>isb</th>\n",
       "      <th>sample</th>\n",
       "      <th>sample.X</th>\n",
       "      <th>sample.Y</th>\n",
       "    </tr>\n",
       "  </thead>\n",
       "  <tbody>\n",
       "    <tr>\n",
       "      <th>4208568</th>\n",
       "      <td>132958</td>\n",
       "      <td>26</td>\n",
       "      <td>4501.7510</td>\n",
       "      <td>-226.27290</td>\n",
       "      <td>0.0</td>\n",
       "      <td>1606.27550</td>\n",
       "      <td>181.45375</td>\n",
       "      <td>340</td>\n",
       "      <td>LCN2</td>\n",
       "      <td>277480.0</td>\n",
       "      <td>LCN2</td>\n",
       "      <td>True</td>\n",
       "      <td>G4423</td>\n",
       "      <td>4501.7510</td>\n",
       "      <td>11866.99590</td>\n",
       "    </tr>\n",
       "    <tr>\n",
       "      <th>4208570</th>\n",
       "      <td>133002</td>\n",
       "      <td>26</td>\n",
       "      <td>4502.9844</td>\n",
       "      <td>-222.26860</td>\n",
       "      <td>0.0</td>\n",
       "      <td>1617.69360</td>\n",
       "      <td>218.53052</td>\n",
       "      <td>340</td>\n",
       "      <td>LCN2</td>\n",
       "      <td>277480.0</td>\n",
       "      <td>LCN2</td>\n",
       "      <td>True</td>\n",
       "      <td>G4423</td>\n",
       "      <td>4502.9844</td>\n",
       "      <td>11862.99160</td>\n",
       "    </tr>\n",
       "    <tr>\n",
       "      <th>4208571</th>\n",
       "      <td>133044</td>\n",
       "      <td>26</td>\n",
       "      <td>4504.8490</td>\n",
       "      <td>-219.43295</td>\n",
       "      <td>0.0</td>\n",
       "      <td>1634.95790</td>\n",
       "      <td>244.78664</td>\n",
       "      <td>340</td>\n",
       "      <td>LCN2</td>\n",
       "      <td>277480.0</td>\n",
       "      <td>LCN2</td>\n",
       "      <td>True</td>\n",
       "      <td>G4423</td>\n",
       "      <td>4504.8490</td>\n",
       "      <td>11860.15595</td>\n",
       "    </tr>\n",
       "    <tr>\n",
       "      <th>4208572</th>\n",
       "      <td>133065</td>\n",
       "      <td>26</td>\n",
       "      <td>4503.5425</td>\n",
       "      <td>-218.18889</td>\n",
       "      <td>0.0</td>\n",
       "      <td>1622.86060</td>\n",
       "      <td>256.30563</td>\n",
       "      <td>340</td>\n",
       "      <td>LCN2</td>\n",
       "      <td>277480.0</td>\n",
       "      <td>LCN2</td>\n",
       "      <td>True</td>\n",
       "      <td>G4423</td>\n",
       "      <td>4503.5425</td>\n",
       "      <td>11858.91189</td>\n",
       "    </tr>\n",
       "    <tr>\n",
       "      <th>4208574</th>\n",
       "      <td>133163</td>\n",
       "      <td>26</td>\n",
       "      <td>4511.1980</td>\n",
       "      <td>-210.22617</td>\n",
       "      <td>0.0</td>\n",
       "      <td>1693.74680</td>\n",
       "      <td>330.03464</td>\n",
       "      <td>340</td>\n",
       "      <td>LCN2</td>\n",
       "      <td>277480.0</td>\n",
       "      <td>LCN2</td>\n",
       "      <td>True</td>\n",
       "      <td>G4423</td>\n",
       "      <td>4511.1980</td>\n",
       "      <td>11850.94917</td>\n",
       "    </tr>\n",
       "    <tr>\n",
       "      <th>...</th>\n",
       "      <td>...</td>\n",
       "      <td>...</td>\n",
       "      <td>...</td>\n",
       "      <td>...</td>\n",
       "      <td>...</td>\n",
       "      <td>...</td>\n",
       "      <td>...</td>\n",
       "      <td>...</td>\n",
       "      <td>...</td>\n",
       "      <td>...</td>\n",
       "      <td>...</td>\n",
       "      <td>...</td>\n",
       "      <td>...</td>\n",
       "      <td>...</td>\n",
       "      <td>...</td>\n",
       "    </tr>\n",
       "    <tr>\n",
       "      <th>10159380</th>\n",
       "      <td>139692</td>\n",
       "      <td>26</td>\n",
       "      <td>5748.2915</td>\n",
       "      <td>122.44262</td>\n",
       "      <td>6.0</td>\n",
       "      <td>195.12239</td>\n",
       "      <td>1157.32120</td>\n",
       "      <td>565</td>\n",
       "      <td>LCN2</td>\n",
       "      <td>277480.0</td>\n",
       "      <td>LCN2</td>\n",
       "      <td>True</td>\n",
       "      <td>G4423</td>\n",
       "      <td>5748.2915</td>\n",
       "      <td>11518.28038</td>\n",
       "    </tr>\n",
       "    <tr>\n",
       "      <th>10159391</th>\n",
       "      <td>139845</td>\n",
       "      <td>26</td>\n",
       "      <td>5746.6626</td>\n",
       "      <td>130.86159</td>\n",
       "      <td>6.0</td>\n",
       "      <td>180.04210</td>\n",
       "      <td>1235.27450</td>\n",
       "      <td>565</td>\n",
       "      <td>LCN2</td>\n",
       "      <td>277480.0</td>\n",
       "      <td>LCN2</td>\n",
       "      <td>True</td>\n",
       "      <td>G4423</td>\n",
       "      <td>5746.6626</td>\n",
       "      <td>11509.86141</td>\n",
       "    </tr>\n",
       "    <tr>\n",
       "      <th>10159415</th>\n",
       "      <td>140288</td>\n",
       "      <td>26</td>\n",
       "      <td>5742.3164</td>\n",
       "      <td>151.10540</td>\n",
       "      <td>6.0</td>\n",
       "      <td>139.79694</td>\n",
       "      <td>1422.71720</td>\n",
       "      <td>565</td>\n",
       "      <td>LCN2</td>\n",
       "      <td>277480.0</td>\n",
       "      <td>LCN2</td>\n",
       "      <td>True</td>\n",
       "      <td>G4423</td>\n",
       "      <td>5742.3164</td>\n",
       "      <td>11489.61760</td>\n",
       "    </tr>\n",
       "    <tr>\n",
       "      <th>10159455</th>\n",
       "      <td>140985</td>\n",
       "      <td>26</td>\n",
       "      <td>5749.6943</td>\n",
       "      <td>183.78725</td>\n",
       "      <td>6.0</td>\n",
       "      <td>208.11052</td>\n",
       "      <td>1725.32690</td>\n",
       "      <td>565</td>\n",
       "      <td>LCN2</td>\n",
       "      <td>277480.0</td>\n",
       "      <td>LCN2</td>\n",
       "      <td>True</td>\n",
       "      <td>G4423</td>\n",
       "      <td>5749.6943</td>\n",
       "      <td>11456.93575</td>\n",
       "    </tr>\n",
       "    <tr>\n",
       "      <th>10159469</th>\n",
       "      <td>141180</td>\n",
       "      <td>26</td>\n",
       "      <td>5745.0166</td>\n",
       "      <td>192.41214</td>\n",
       "      <td>6.0</td>\n",
       "      <td>164.79970</td>\n",
       "      <td>1805.18700</td>\n",
       "      <td>565</td>\n",
       "      <td>LCN2</td>\n",
       "      <td>277480.0</td>\n",
       "      <td>LCN2</td>\n",
       "      <td>True</td>\n",
       "      <td>G4423</td>\n",
       "      <td>5745.0166</td>\n",
       "      <td>11448.31086</td>\n",
       "    </tr>\n",
       "  </tbody>\n",
       "</table>\n",
       "<p>130408 rows × 15 columns</p>\n",
       "</div>"
      ],
      "text/plain": [
       "          Unnamed: 0  barcode_id   global_x   global_y  global_z           x  \\\n",
       "4208568       132958          26  4501.7510 -226.27290       0.0  1606.27550   \n",
       "4208570       133002          26  4502.9844 -222.26860       0.0  1617.69360   \n",
       "4208571       133044          26  4504.8490 -219.43295       0.0  1634.95790   \n",
       "4208572       133065          26  4503.5425 -218.18889       0.0  1622.86060   \n",
       "4208574       133163          26  4511.1980 -210.22617       0.0  1693.74680   \n",
       "...              ...         ...        ...        ...       ...         ...   \n",
       "10159380      139692          26  5748.2915  122.44262       6.0   195.12239   \n",
       "10159391      139845          26  5746.6626  130.86159       6.0   180.04210   \n",
       "10159415      140288          26  5742.3164  151.10540       6.0   139.79694   \n",
       "10159455      140985          26  5749.6943  183.78725       6.0   208.11052   \n",
       "10159469      141180          26  5745.0166  192.41214       6.0   164.79970   \n",
       "\n",
       "                   y  fov  gene  transcript_id cluster   isb sample  \\\n",
       "4208568    181.45375  340  LCN2       277480.0    LCN2  True  G4423   \n",
       "4208570    218.53052  340  LCN2       277480.0    LCN2  True  G4423   \n",
       "4208571    244.78664  340  LCN2       277480.0    LCN2  True  G4423   \n",
       "4208572    256.30563  340  LCN2       277480.0    LCN2  True  G4423   \n",
       "4208574    330.03464  340  LCN2       277480.0    LCN2  True  G4423   \n",
       "...              ...  ...   ...            ...     ...   ...    ...   \n",
       "10159380  1157.32120  565  LCN2       277480.0    LCN2  True  G4423   \n",
       "10159391  1235.27450  565  LCN2       277480.0    LCN2  True  G4423   \n",
       "10159415  1422.71720  565  LCN2       277480.0    LCN2  True  G4423   \n",
       "10159455  1725.32690  565  LCN2       277480.0    LCN2  True  G4423   \n",
       "10159469  1805.18700  565  LCN2       277480.0    LCN2  True  G4423   \n",
       "\n",
       "           sample.X     sample.Y  \n",
       "4208568   4501.7510  11866.99590  \n",
       "4208570   4502.9844  11862.99160  \n",
       "4208571   4504.8490  11860.15595  \n",
       "4208572   4503.5425  11858.91189  \n",
       "4208574   4511.1980  11850.94917  \n",
       "...             ...          ...  \n",
       "10159380  5748.2915  11518.28038  \n",
       "10159391  5746.6626  11509.86141  \n",
       "10159415  5742.3164  11489.61760  \n",
       "10159455  5749.6943  11456.93575  \n",
       "10159469  5745.0166  11448.31086  \n",
       "\n",
       "[130408 rows x 15 columns]"
      ]
     },
     "execution_count": 12,
     "metadata": {},
     "output_type": "execute_result"
    }
   ],
   "source": [
    "# # visualize LCN2\n",
    "# idx=np.array([*range(mtx.shape[0])])\n",
    "# idx_tmp=idx[((coordinates[:,0]>4500) & (coordinates[:,0]<5750)) & ((coordinates[:,1]<max(coordinates[:,1])) & (coordinates[:,1]>(max(coordinates[:,1])-1250))) & (np.array(mtx.cluster)=='LCN2')]\n",
    "# #df_dict = {'G4423': mtx.loc[idx_tmp]}\n",
    "# df_dict = {'G4423': mtx.loc[idx_tmp]}\n",
    "# df_dict['G4423']"
   ]
  },
  {
   "cell_type": "code",
   "execution_count": 13,
   "id": "61eaf57a",
   "metadata": {},
   "outputs": [
    {
     "data": {
      "image/png": "[encoded data removed]",
      "text/plain": [
       "<Figure size 640x480 with 1 Axes>"
      ]
     },
     "metadata": {},
     "output_type": "display_data"
    }
   ],
   "source": [
    "# import numpy as np\n",
    "# import matplotlib.pyplot as plt\n",
    "# plt.scatter(df_dict['G4423'].global_x, df_dict['G4423'].global_y, s=0.3)\n",
    "# plt.title(\"LCN2 transcripts\")\n",
    "# ax = plt.gca()\n",
    "# ax.set_aspect('equal', adjustable='box')\n",
    "# plt.draw()"
   ]
  },
  {
   "cell_type": "code",
   "execution_count": null,
   "id": "0f1b487a",
   "metadata": {},
   "outputs": [
    {
     "name": "stderr",
     "output_type": "stream",
     "text": [
      "\r",
      "  0%|                                                     | 0/1 [00:00<?, ?it/s]"
     ]
    }
   ],
   "source": [
    "# Featurize the data\n",
    "#%%time\n",
    "for df in df_dict.values():\n",
    "    df['x'] = df['sample.X']\n",
    "    df['y'] = df['sample.Y']\n",
    "#wt_samples = [ x for x in codex_df_dict.keys() if x.startswith(\"BALBc\")]\n",
    "#spleen_dfs = dict(zip(wt_samples, [ codex_df_dict[x] for x in wt_samples]))\n",
    "\n",
    "# neighborhood_feature_fn = functools.partial(neighborhood_to_marker, \n",
    "#                                              markers=markers)  \n",
    "# original cells_features function \n",
    "cells_features = featurize_samples(df_dict, neighborhood_to_cluster, 100,'isb',\n",
    "                             'sample.X', 'sample.Y', include_anchors=True, #all cells are ahcnors\n",
    "                             n_processes=N_PARALLEL_PROCESSES)\n",
    "\n",
    "# # generate cells_features without running featurize_samples\n",
    "# cells_features=mtx.iloc[idx,range(0,(mtx.shape[1]-4))]\n",
    "# cidx=cells_features.index.tolist()\n",
    "# rn=[]\n",
    "# for ii in range(len(cidx)):\n",
    "#     rn.append(tuple([\"G4423\",cidx[ii]]))\n",
    "# cells_features.index=rn\n",
    "\n",
    "#featurize_spleens(spleen_dfs, neighborhood_to_cluster, radius=100,n_processes=N_PARALLEL_PROCESSES)\n",
    "with open(PATH_TO_FEATURES_PKL, 'wb') as f:\n",
    "   pickle.dump(cells_features, f)\n"
   ]
  },
  {
   "cell_type": "code",
   "execution_count": null,
   "id": "2ef5a530",
   "metadata": {},
   "outputs": [],
   "source": [
    "cells_features"
   ]
  },
  {
   "cell_type": "code",
   "execution_count": null,
   "id": "8afee0c9",
   "metadata": {},
   "outputs": [],
   "source": []
  },
  {
   "cell_type": "code",
   "execution_count": null,
   "id": "c3cd9fad",
   "metadata": {},
   "outputs": [],
   "source": [
    "## original script for refernece\n",
    "# from scipy.spatial import Voronoi\n",
    "# sample_features = cells_features\n",
    "# sample_dfs = df_dict\n",
    "# x_col='sample.X'\n",
    "# y_col='sample.Y'\n",
    "# z_col= None\n",
    "# reduce_to_mst=False\n",
    "\n",
    "# #def make_nearest_neighbor_graph(sample_features, sample_dfs, sample_idx, x_col, y_col, z_col=None):\n",
    "# sample_idxs = sample_features.index.map(lambda x: x[0])\n",
    "# sample_idx = sample_idxs[0] ###\n",
    "# sample_rows = sample_features[sample_idxs == sample_idx]\n",
    "# cell_idx = sample_rows.index.map(lambda x: x[1])\n",
    "# if z_col is None:\n",
    "#     coords = [x_col, y_col]\n",
    "# else:\n",
    "#     coords = [x_col, y_col, z_col]\n",
    "# cell_coords = sample_dfs[sample_idx].loc[cell_idx][coords].values\n",
    "# vor = Voronoi(cell_coords)\n",
    "# num_edges = vor.ridge_points.shape[0]\n",
    "# num_nodes = len(cell_coords)\n",
    "# src_nodes = vor.ridge_points[:, 0]\n",
    "# dst_nodes = vor.ridge_points[:, 1]\n",
    "# coord_difference = cell_coords[src_nodes] - cell_coords[dst_nodes]\n",
    "# edge_lengths = np.sqrt(np.sum(coord_difference**2.0, axis=1))\n",
    "# #    assert len(edge_lengths) == num_edges\n",
    "# #    return num_nodes, src_nodes, dst_nodes, edge_lengths"
   ]
  },
  {
   "cell_type": "code",
   "execution_count": null,
   "id": "144bdab3",
   "metadata": {},
   "outputs": [],
   "source": [
    "# print(num_edges)\n",
    "# print(num_nodes)\n",
    "# print(len(src_nodes))\n",
    "# print(src_nodes[0:20])\n",
    "# print(dst_nodes[0:10])\n",
    "# print(coord_difference)"
   ]
  },
  {
   "cell_type": "code",
   "execution_count": null,
   "id": "5636428c",
   "metadata": {},
   "outputs": [],
   "source": []
  },
  {
   "cell_type": "code",
   "execution_count": null,
   "id": "ac1f84bf",
   "metadata": {},
   "outputs": [],
   "source": []
  },
  {
   "cell_type": "code",
   "execution_count": null,
   "id": "bc284714",
   "metadata": {},
   "outputs": [],
   "source": [
    "# # revised script\n",
    "# from scipy.spatial import Voronoi\n",
    "# from sklearn.neighbors import NearestNeighbors\n",
    "\n",
    "# sample_features = cells_features\n",
    "# sample_dfs = df_dict\n",
    "# x_col='sample.X'\n",
    "# y_col='sample.Y'\n",
    "# z_col= None\n",
    "# reduce_to_mst=False\n",
    "# n_neighbors=5\n",
    "\n",
    "# #def make_nearest_neighbor_graph2(sample_features, sample_dfs, sample_idx, x_col, y_col, z_col=None, n_neighbors=1):\n",
    "# sample_idxs = sample_features.index.map(lambda x: x[0])\n",
    "# sample_idx = sample_idxs[0] ###\n",
    "# sample_rows = sample_features[sample_idxs == sample_idx]\n",
    "# cell_idx = sample_rows.index.map(lambda x: x[1])\n",
    "# if z_col is None:\n",
    "#     coords = [x_col, y_col]\n",
    "# else:\n",
    "#     coords = [x_col, y_col, z_col]\n",
    "# cell_coords = sample_dfs[sample_idx].loc[cell_idx][coords].values\n",
    "# #vor = Voronoi(cell_coords)\n",
    "# num_edges = len(cell_coords) * (n_neighbors+1)#vor.ridge_points.shape[0]\n",
    "# num_nodes = len(cell_coords)\n",
    "\n",
    "# ## n nearest neighbors\n",
    "# fit = NearestNeighbors(n_neighbors=(n_neighbors+1)).fit(cell_coords)\n",
    "# m = fit.kneighbors(cell_coords, return_distance=True)\n",
    "\n",
    "\n",
    "# src_nodes = np.repeat(range(num_nodes), n_neighbors)#vor.ridge_points[:, 0]\n",
    "# dst_nodes = m[1][:,1:].flatten()#vor.ridge_points[:, 1]\n",
    "# #coord_difference = #cell_coords[src_nodes] - cell_coords[dst_nodes]\n",
    "# edge_lengths = m[0][:,1:].flatten()#np.sqrt(np.sum(coord_difference**2.0, axis=1))\n",
    "# #    assert len(edge_lengths) == num_edges\n",
    "# #    return num_nodes, src_nodes, dst_nodes, edge_lengths"
   ]
  },
  {
   "cell_type": "code",
   "execution_count": null,
   "id": "206e125f",
   "metadata": {},
   "outputs": [],
   "source": [
    "# edge_lengths.flatten()[0:20]"
   ]
  },
  {
   "cell_type": "code",
   "execution_count": null,
   "id": "c1feab57",
   "metadata": {},
   "outputs": [],
   "source": [
    "# coord_difference = cell_coords[src_nodes] - cell_coords[dst_nodes]\n",
    "# edge_lengths2 = np.sqrt(np.sum(coord_difference**2.0, axis=1))\n",
    "# edge_lengths2[0:20]"
   ]
  },
  {
   "cell_type": "code",
   "execution_count": null,
   "id": "506e8d18",
   "metadata": {},
   "outputs": [],
   "source": []
  },
  {
   "cell_type": "code",
   "execution_count": null,
   "id": "32cb25b4",
   "metadata": {},
   "outputs": [],
   "source": [
    "# # test nearest neighbors\n",
    "# from sklearn.neighbors import NearestNeighbors\n",
    "# n_neighbors=5\n",
    "# fit = NearestNeighbors(n_neighbors=n_neighbors).fit(cell_coords)\n",
    "# m = fit.kneighbors(cell_coords, return_distance=True)"
   ]
  },
  {
   "cell_type": "code",
   "execution_count": null,
   "id": "957a2632",
   "metadata": {},
   "outputs": [],
   "source": [
    "# coord_difference = cell_coords[src_nodes] - cell_coords[dst_nodes]\n",
    "# edge_lengths = np.sqrt(np.sum(coord_difference**2.0, axis=1))\n",
    "# print(edge_lengths)\n",
    "# print(m[0])\n",
    "# ## the two are the same"
   ]
  },
  {
   "cell_type": "code",
   "execution_count": null,
   "id": "099f3e4a",
   "metadata": {},
   "outputs": [],
   "source": []
  },
  {
   "cell_type": "code",
   "execution_count": null,
   "id": "f32b41f4",
   "metadata": {},
   "outputs": [],
   "source": [
    "# # sort the neighbors\n",
    "# args = m[0].argsort(axis=1)\n",
    "# add = np.arange(m[1].shape[0])*m[1].shape[1]\n",
    "# sorted_indices = m[1].flatten()[args+add[:, None]]\n",
    "# # neighbors = metadata.index.values[sorted_indices].astype(np.int32)\n",
    "# # transcriptsbyneighborhood = pd.DataFrame([cellbygene.loc[neighbors[index], :].sum() for index, cell_id \n",
    "# # in enumerate(cellbygene.index.values.tolist())])"
   ]
  },
  {
   "cell_type": "code",
   "execution_count": null,
   "id": "50520b7b",
   "metadata": {},
   "outputs": [],
   "source": []
  },
  {
   "cell_type": "code",
   "execution_count": null,
   "id": "6e89448b",
   "metadata": {},
   "outputs": [],
   "source": [
    "# #def make_difference_matrix(num_nodes, src_nodes, dst_nodes):\n",
    "# # the matrix--each row is a edge-- staring point=1; dist point=-1\n",
    "# num_edges = len(src_nodes)\n",
    "# rows = np.hstack([np.arange(num_edges), np.arange(num_edges)])\n",
    "# cols = np.hstack([src_nodes, dst_nodes])\n",
    "# values = np.hstack([np.ones(num_edges), -1 * np.ones(num_edges)])\n",
    "# #difference_matrix = coo_matrix(\n",
    "# #    (values, (rows, cols)), shape=(num_edges, num_nodes)).tocsr()\n",
    "# #return difference_matrix\n",
    "\n"
   ]
  },
  {
   "cell_type": "code",
   "execution_count": null,
   "id": "fd0dfb60",
   "metadata": {},
   "outputs": [],
   "source": []
  },
  {
   "cell_type": "code",
   "execution_count": null,
   "id": "e0814023",
   "metadata": {},
   "outputs": [],
   "source": []
  },
  {
   "cell_type": "code",
   "execution_count": null,
   "id": "943f6b05",
   "metadata": {},
   "outputs": [],
   "source": [
    "# def make_merged_difference_matrices(sample_features, sample_dfs,\n",
    "#                                     x_col, y_col, z_col=None,\n",
    "#                                     reduce_to_mst=True):\n",
    "#     difference_matrices = dict()\n",
    "#     sample_idxs = sample_features.index.map(lambda x: x[0])\n",
    "#     for sample_idx in set(sample_idxs):\n",
    "#         graph = make_nearest_neighbor_graph(\n",
    "#             sample_features, sample_dfs, sample_idx, x_col, y_col, z_col=z_col)\n",
    "#         num_nodes, src_nodes, dst_nodes, edge_lengths = graph\n",
    "# #         difference_matrix = make_difference_matrix(\n",
    "# #             num_nodes, src_nodes, dst_nodes)\n",
    "# #         if reduce_to_mst:\n",
    "# #             mst_mask = make_minimum_spaning_tree_mask(\n",
    "# #                 num_nodes, src_nodes, dst_nodes, edge_lengths)\n",
    "# #             difference_matrix = difference_matrix[mst_mask, :]\n",
    "# #         difference_matrices[sample_idx] = difference_matrix\n",
    "#     return difference_matrices"
   ]
  },
  {
   "cell_type": "code",
   "execution_count": null,
   "id": "33f73e43",
   "metadata": {},
   "outputs": [],
   "source": [
    "# difference_matrices = make_merged_difference_matrices(cells_features, df_dict,\n",
    "#                                                              'sample.X', 'sample.Y', reduce_to_mst=False)"
   ]
  },
  {
   "cell_type": "code",
   "execution_count": null,
   "id": "0324c9da",
   "metadata": {},
   "outputs": [],
   "source": [
    "import inspect\n",
    "print(os.path.abspath(inspect.getfile(featurize_samples)))"
   ]
  },
  {
   "cell_type": "code",
   "execution_count": null,
   "id": "7745ec67",
   "metadata": {},
   "outputs": [],
   "source": [
    "cells_features.sum(1)"
   ]
  },
  {
   "cell_type": "code",
   "execution_count": null,
   "id": "3b6d4f4a",
   "metadata": {},
   "outputs": [],
   "source": [
    "#difference_matrices = make_merged_difference_matrices(cells_features, df_dict,\n",
    "#                                                             'sample.X', 'sample.Y', n_neighbors=5, reduce_to_mst=True)\n",
    "all_sample_idxs = cells_features.index.map(lambda x: x[0])\n",
    "_sets = train_test_split(cells_features, \n",
    "                         test_size=1. - TRAIN_SIZE_FRACTION,\n",
    "                         stratify=all_sample_idxs)\n",
    "train_cells_features, test_cells__features = _sets\n",
    "train_difference_matrices = make_merged_difference_matrices_ori(\n",
    "    cells_features, df_dict,\n",
    "    'sample.X', 'sample.Y', n_neighbors=5, reduce_to_mst=True)\n",
    "train_idxs = train_cells_features.index.map(lambda x: x[0])"
   ]
  },
  {
   "cell_type": "code",
   "execution_count": null,
   "id": "7fb5e013",
   "metadata": {},
   "outputs": [],
   "source": [
    "from spatial_lda.visualization import plot_adjacency_graph\n",
    "\n",
    "def make_plot_fn(difference_matrices):  \n",
    "    def plot_fn(ax, tumor_idx, features_df, patient_dfs):\n",
    "        plot_adjacency_graph(ax, tumor_idx, features_df, patient_dfs, difference_matrices)\n",
    "    return plot_fn\n",
    "_plot_fn = make_plot_fn(difference_matrices)\n",
    "\n",
    "plot_samples_in_a_row(cells_features, _plot_fn, df_dict)"
   ]
  },
  {
   "cell_type": "code",
   "execution_count": null,
   "id": "f991a73f",
   "metadata": {},
   "outputs": [],
   "source": [
    "from spatial_lda.visualization import plot_samples_in_a_row\n",
    "import pandas as pd\n",
    "import matplotlib.pyplot as plt\n",
    "import matplotlib.backends.backend_pdf\n",
    "from matplotlib.backends.backend_pdf import PdfPages\n",
    "from spatial_lda.visualization import plot_samples_in_a_row\n",
    "with PdfPages('./plots/G4423_prior_only_subregion2_adjacency_nomst_5nn.pdf') as pdf_pages:\n",
    "    # df1 = dftest.select_dtypes([np.int, np.float, np.object])\n",
    "    # for i, col in enumerate(N_TOPICS_LIST):\n",
    "    #     figu = plt.figure(i)\n",
    "    #     plot = sns.countplot(x=col, data=df1)\n",
    "    #     pdf_pages.savefig(figu)\n",
    "    plt.figure()\n",
    "    plot_samples_in_a_row(cells_features, _plot_fn, df_dict)\n",
    "    pdf_pages.savefig()\n",
    "    plt.close()"
   ]
  },
  {
   "cell_type": "markdown",
   "id": "189fd48e",
   "metadata": {},
   "source": [
    "# Spatial LDA results"
   ]
  },
  {
   "cell_type": "code",
   "execution_count": null,
   "id": "feaa3b7a",
   "metadata": {},
   "outputs": [],
   "source": [
    "N_TOPICS_LIST = [3, 5, 8, 10, 20] #@param\n",
    "#N_TOPICS_LIST = [20, 30, 50] #@param\n",
    "N_TOPICS_LIST"
   ]
  },
  {
   "cell_type": "code",
   "execution_count": null,
   "id": "df5a1553",
   "metadata": {},
   "outputs": [],
   "source": []
  },
  {
   "cell_type": "code",
   "execution_count": null,
   "id": "c32f878f",
   "metadata": {},
   "outputs": [],
   "source": [
    "from spatial_lda.model import order_topics_consistently\n",
    "spatial_lda_models = {}  \n",
    "difference_penalty = 0.25#10000000000#0.25   \n",
    "for n_topics in N_TOPICS_LIST:\n",
    "  #path_to_train_model = '_'.join((f'{PATH_TO_MODELS}/training_prior_only_subregion2',\n",
    "  path_to_train_model = '_'.join((f'{PATH_TO_MODELS}/training_transcripts_subregion2_mst_voronoi_d025',\n",
    "                                  f'penalty={difference_penalty}',\n",
    "                                  f'topics={n_topics}',\n",
    "                                  f'trainfrac={TRAIN_SIZE_FRACTION}')) + '.pkl'\n",
    "  if not os.path.exists(path_to_train_model):\n",
    "    print(f'Running n_topics={n_topics}, d={difference_penalty}\\n')\n",
    "    spatial_lda_model = spatial_lda.model.train(sample_features=cells_features, \n",
    "                                                difference_matrices=train_difference_matrices,\n",
    "                                                difference_penalty=difference_penalty,\n",
    "                                                n_topics=n_topics,\n",
    "                                                n_parallel_processes=N_PARALLEL_PROCESSES,                                                                         \n",
    "                                                verbosity=1,\n",
    "                                                admm_rho=0.1,\n",
    "                                                primal_dual_mu=1e+5)\n",
    "    spatial_lda_models[n_topics] = spatial_lda_model\n",
    "    with open(path_to_train_model, 'wb') as f:\n",
    "      pickle.dump(spatial_lda_model, f)    \n",
    "  else:\n",
    "    with open(path_to_train_model, 'rb') as f:\n",
    "      spatial_lda_models[n_topics] = pickle.load(f)\n",
    "      \n",
    "order_topics_consistently(spatial_lda_models.values())     "
   ]
  },
  {
   "cell_type": "code",
   "execution_count": null,
   "id": "d0dc9bb8",
   "metadata": {},
   "outputs": [],
   "source": [
    "lda_3 = spatial_lda_models[3]\n",
    "topic_weights_3 = lda_3.topic_weights\n",
    "lda_5 = spatial_lda_models[5]\n",
    "topic_weights_5 = lda_5.topic_weights\n",
    "lda_8 = spatial_lda_models[8]\n",
    "topic_weights_8 = lda_8.topic_weights\n",
    "lda_10 = spatial_lda_models[10]\n",
    "topic_weights_10 = lda_10.topic_weights\n",
    "samples = ['G4423']\n",
    "\n",
    "lda_20 = spatial_lda_models[20]\n",
    "topic_weights_20 = lda_20.topic_weights\n",
    "# lda_30 = spatial_lda_models[30]\n",
    "# topic_weights_30 = lda_30.topic_weights\n",
    "# lda_50 = spatial_lda_models[50]\n",
    "# topic_weights_50 = lda_50.topic_weights\n",
    "samples = ['G4423']"
   ]
  },
  {
   "cell_type": "code",
   "execution_count": null,
   "id": "2b2e6e7e",
   "metadata": {},
   "outputs": [],
   "source": [
    "# # explore topics\n",
    "# (lda_3.components_)#.sum(axis=1))\n",
    "# #model.components_ / model.components_.sum(axis=1)[:, np.newaxis]\n",
    "# #  components_ : array, [n_components, n_features]\n",
    "# #         Variational parameters for topic word distribution. Since the complete\n",
    "# #         conditional for topic word distribution is a Dirichlet,\n",
    "# #         ``components_[i, j]`` can be viewed as pseudocount that represents the\n",
    "# #         number of times word `j` was assigned to topic `i`.\n",
    "# #         It can also be viewed as distribution over the words for each topic\n",
    "# #         after normalization:\n",
    "# #         ``model.components_ / model.components_.sum(axis=1)[:, np.newaxis]``.\n",
    "# topic_word= (lda_3.components_)/(lda_3.components_).sum(axis=1)[:, np.newaxis]"
   ]
  },
  {
   "cell_type": "code",
   "execution_count": null,
   "id": "d1d13e3d",
   "metadata": {},
   "outputs": [],
   "source": [
    "# save topic info to csv using for loop\n",
    "#all_vars=dir()\n",
    "sel_vars=[]\n",
    "for ii in all_vars:\n",
    "    if \"lda_\" in ii:\n",
    "        sel_vars.append(ii)\n",
    "print(sel_vars)"
   ]
  },
  {
   "cell_type": "code",
   "execution_count": null,
   "id": "b0c61a44",
   "metadata": {},
   "outputs": [],
   "source": [
    "for ii in sel_vars[0:(len(sel_vars)-1)]:\n",
    "    lda=globals()[ii]\n",
    "    topic_word = (lda.components_)/(lda.components_).sum(axis=1)[:, np.newaxis]\n",
    "    topic_word_df=pd.DataFrame(topic_word)\n",
    "    topic_word_df.columns=markers\n",
    "    topic_word_df.to_csv(\"./tables/G4420_transcripts_subregion2_mst_voronoi_d025_topic_word_\"+ii+\"_.csv\")\n",
    "    print(ii)"
   ]
  },
  {
   "cell_type": "code",
   "execution_count": null,
   "id": "6656ef53",
   "metadata": {},
   "outputs": [],
   "source": [
    "globals()['lda_10']"
   ]
  },
  {
   "cell_type": "code",
   "execution_count": null,
   "id": "56b589bd",
   "metadata": {},
   "outputs": [],
   "source": [
    "# topic_word_df=pd.DataFrame(topic_word)\n",
    "# topic_word_df.columns=markers\n",
    "# topic_word_df\n",
    "# df_topic_info.to_csv(\"./tables/G4420_subregion_topic_info_hdp_seed0.csv\")"
   ]
  },
  {
   "cell_type": "code",
   "execution_count": null,
   "id": "fca7ee29",
   "metadata": {},
   "outputs": [],
   "source": []
  },
  {
   "cell_type": "code",
   "execution_count": null,
   "id": "a396fa45",
   "metadata": {},
   "outputs": [],
   "source": []
  },
  {
   "cell_type": "code",
   "execution_count": null,
   "id": "63919512",
   "metadata": {},
   "outputs": [],
   "source": [
    "lda_3.__dict__"
   ]
  },
  {
   "cell_type": "code",
   "execution_count": null,
   "id": "f216c634",
   "metadata": {},
   "outputs": [],
   "source": [
    "from spatial_lda.visualization import plot_bcell_topic_multicolor\n",
    "from spatial_lda.visualization import plot_topic_multicolor\n",
    "from spatial_lda.visualization import plot_samples_in_a_row\n",
    "from matplotlib.backends.backend_pdf import PdfPages\n",
    "\n",
    "#with PdfPages('./plots/G4423_prior_only_subregion2_topic_weights_extended_001.pdf') as pdf_pages:\n",
    "with PdfPages('./plots/G4423_transcripts_subregion2_mst_voronoi_d025_topic_weights_extended_001.pdf') as pdf_pages:\n",
    "    # df1 = dftest.select_dtypes([np.int, np.float, np.object])\n",
    "    # for i, col in enumerate(N_TOPICS_LIST):\n",
    "    #     figu = plt.figure(i)\n",
    "    #     plot = sns.countplot(x=col, data=df1)\n",
    "    #     pdf_pages.savefig(figu)\n",
    "    plt.figure()\n",
    "    plot_samples_in_a_row(topic_weights_3, plot_topic_multicolor, df_dict, tumor_set=samples)\n",
    "    pdf_pages.savefig(bbox_inches=\"tight\", pad_inches=0.2)\n",
    "    plt.close()\n",
    "    \n",
    "    plt.figure()\n",
    "    plot_samples_in_a_row(topic_weights_5, plot_topic_multicolor, df_dict, tumor_set=samples)\n",
    "    pdf_pages.savefig(bbox_inches=\"tight\", pad_inches=0.2)\n",
    "    plt.close()\n",
    "    \n",
    "    plt.figure()\n",
    "    plot_samples_in_a_row(topic_weights_8, plot_topic_multicolor, df_dict, tumor_set=samples)\n",
    "    pdf_pages.savefig(bbox_inches=\"tight\", pad_inches=0.2)\n",
    "    plt.close()\n",
    "    \n",
    "    plt.figure()\n",
    "    plot_samples_in_a_row(topic_weights_10, plot_topic_multicolor, df_dict, tumor_set=samples)\n",
    "    pdf_pages.savefig(bbox_inches=\"tight\", pad_inches=0.2)\n",
    "    plt.close()\n",
    "    \n",
    "    plt.figure()\n",
    "    plot_topic_multicolor_fn = functools.partial(plot_topic_multicolor, seed=23)  \n",
    "    plot_samples_in_a_row(topic_weights_20, plot_topic_multicolor_fn, df_dict, tumor_set=samples)\n",
    "    pdf_pages.savefig(bbox_inches=\"tight\", pad_inches=0.2)\n",
    "    plt.close()\n",
    "    \n",
    "#     plt.figure()\n",
    "#     plot_samples_in_a_row(topic_weights_30,plot_topic_multicolor6, df_dict, tumor_set=samples)\n",
    "#     pdf_pages.savefig()\n",
    "#     plt.close()\n",
    "    \n",
    "#     plt.figure()\n",
    "#     plot_samples_in_a_row(topic_weights_50,plot_topic_multicolor6, df_dict, tumor_set=samples)\n",
    "#     pdf_pages.savefig()\n",
    "#     plt.close()\n",
    "    \n",
    "    \n",
    "    \n",
    "    "
   ]
  },
  {
   "cell_type": "code",
   "execution_count": null,
   "id": "46af3383",
   "metadata": {},
   "outputs": [],
   "source": [
    "import palettable.cartocolors.qualitative as qual_palettes\n",
    "color_palette = qual_palettes.Bold_10.mpl_colors\n",
    "colors = np.array(color_palette[:10])\n",
    "colors"
   ]
  },
  {
   "cell_type": "code",
   "execution_count": null,
   "id": "b6e8d319",
   "metadata": {},
   "outputs": [],
   "source": []
  },
  {
   "cell_type": "code",
   "execution_count": null,
   "id": "d60c5727",
   "metadata": {},
   "outputs": [],
   "source": []
  },
  {
   "cell_type": "code",
   "execution_count": null,
   "id": "9e6e0283",
   "metadata": {},
   "outputs": [],
   "source": [
    "from spatial_lda.visualization import plot_topic_multicolor7"
   ]
  },
  {
   "cell_type": "code",
   "execution_count": null,
   "id": "27f17323",
   "metadata": {},
   "outputs": [],
   "source": [
    "topic_weights_20.shape"
   ]
  },
  {
   "cell_type": "code",
   "execution_count": null,
   "id": "e07afabc",
   "metadata": {},
   "outputs": [],
   "source": [
    "# # prior only\n",
    "# from spatial_lda.visualization import plot_samples_in_a_row\n",
    "# from spatial_lda.visualization import plot_bcell_topic_multicolor\n",
    "# from spatial_lda.visualization import plot_topic_multicolor4\n",
    "# plot_samples_in_a_row(topic_weights_3, plot_bcell_topic_multicolor3, df_dict, tumor_set=samples)\n",
    "# plot_samples_in_a_row(topic_weights_5, plot_bcell_topic_multicolor3, df_dict, tumor_set=samples)\n",
    "# plot_samples_in_a_row(topic_weights_8, plot_bcell_topic_multicolor3, df_dict, tumor_set=samples)\n",
    "# plot_samples_in_a_row(topic_weights_10, plot_bcell_topic_multicolor3, df_dict, tumor_set=samples)\n",
    "# plot_samples_in_a_row(topic_weights_20, plot_topic_multicolor4, df_dict, tumor_set=samples)"
   ]
  },
  {
   "cell_type": "code",
   "execution_count": null,
   "id": "c33bfdec",
   "metadata": {},
   "outputs": [],
   "source": [
    "# prior only\n",
    "from spatial_lda.visualization import plot_samples_in_a_row\n",
    "from spatial_lda.visualization import plot_bcell_topic_multicolor\n",
    "from spatial_lda.visualization import plot_topic_multicolor\n",
    "plot_samples_in_a_row(topic_weights_3, plot_topic_multicolor, df_dict, tumor_set=samples)\n",
    "plot_samples_in_a_row(topic_weights_5, plot_topic_multicolor, df_dict, tumor_set=samples)\n",
    "plot_samples_in_a_row(topic_weights_8, plot_topic_multicolor, df_dict, tumor_set=samples)\n",
    "plot_samples_in_a_row(topic_weights_10, plot_topic_multicolor, df_dict, tumor_set=samples)\n",
    "plot_topic_multicolor10_fn = functools.partial(plot_topic_multicolor, seed=23 ) \n",
    "plot_samples_in_a_row(topic_weights_20, plot_topic_multicolor10_fn, df_dict, tumor_set=samples)"
   ]
  },
  {
   "cell_type": "code",
   "execution_count": null,
   "id": "9ddcb86b",
   "metadata": {},
   "outputs": [],
   "source": [
    "# # no smoothing no mst\n",
    "# from spatial_lda.visualization import plot_samples_in_a_row\n",
    "# from spatial_lda.visualization import plot_bcell_topic_multicolor3\n",
    "# from spatial_lda.visualization import plot_topic_multicolor5\n",
    "# plot_samples_in_a_row(topic_weights_3, plot_bcell_topic_multicolor3, df_dict, tumor_set=samples)\n",
    "# plot_samples_in_a_row(topic_weights_5, plot_bcell_topic_multicolor3, df_dict, tumor_set=samples)\n",
    "# plot_samples_in_a_row(topic_weights_8, plot_bcell_topic_multicolor3, df_dict, tumor_set=samples)\n",
    "# plot_samples_in_a_row(topic_weights_10, plot_bcell_topic_multicolor3, df_dict, tumor_set=samples)\n",
    "# plot_samples_in_a_row(topic_weights_20, plot_topic_multicolor5, df_dict, tumor_set=samples)"
   ]
  },
  {
   "cell_type": "code",
   "execution_count": null,
   "id": "5f4e9465",
   "metadata": {},
   "outputs": [],
   "source": []
  },
  {
   "cell_type": "code",
   "execution_count": null,
   "id": "1572c12c",
   "metadata": {},
   "outputs": [],
   "source": []
  }
 ],
 "metadata": {
  "kernelspec": {
   "display_name": "NSF38",
   "language": "python",
   "name": "nsf38"
  },
  "language_info": {
   "codemirror_mode": {
    "name": "ipython",
    "version": 3
   },
   "file_extension": ".py",
   "mimetype": "text/x-python",
   "name": "python",
   "nbconvert_exporter": "python",
   "pygments_lexer": "ipython3",
   "version": "3.8.15"
  }
 },
 "nbformat": 4,
 "nbformat_minor": 5
}
